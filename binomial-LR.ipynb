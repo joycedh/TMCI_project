{
 "cells": [
  {
   "cell_type": "code",
   "execution_count": 17,
   "metadata": {},
   "outputs": [
    {
     "data": {
      "text/html": [
       "<div>\n",
       "<style>\n",
       "    .dataframe thead tr:only-child th {\n",
       "        text-align: right;\n",
       "    }\n",
       "\n",
       "    .dataframe thead th {\n",
       "        text-align: left;\n",
       "    }\n",
       "\n",
       "    .dataframe tbody tr th {\n",
       "        vertical-align: top;\n",
       "    }\n",
       "</style>\n",
       "<table border=\"1\" class=\"dataframe\">\n",
       "  <thead>\n",
       "    <tr style=\"text-align: right;\">\n",
       "      <th></th>\n",
       "      <th>id</th>\n",
       "      <th>truth-value</th>\n",
       "      <th>text</th>\n",
       "      <th>topic</th>\n",
       "      <th>name</th>\n",
       "      <th>job</th>\n",
       "      <th>state</th>\n",
       "      <th>politics</th>\n",
       "      <th>count1</th>\n",
       "      <th>count2</th>\n",
       "      <th>count3</th>\n",
       "      <th>count4</th>\n",
       "      <th>count5</th>\n",
       "      <th>context</th>\n",
       "    </tr>\n",
       "  </thead>\n",
       "  <tbody>\n",
       "    <tr>\n",
       "      <th>0</th>\n",
       "      <td>2635.json</td>\n",
       "      <td>false</td>\n",
       "      <td>Says the Annies List political group supports ...</td>\n",
       "      <td>abortion</td>\n",
       "      <td>dwayne-bohac</td>\n",
       "      <td>State representative</td>\n",
       "      <td>Texas</td>\n",
       "      <td>republican</td>\n",
       "      <td>0.0</td>\n",
       "      <td>1.0</td>\n",
       "      <td>0.0</td>\n",
       "      <td>0.0</td>\n",
       "      <td>0.0</td>\n",
       "      <td>a mailer</td>\n",
       "    </tr>\n",
       "    <tr>\n",
       "      <th>1</th>\n",
       "      <td>10540.json</td>\n",
       "      <td>half-true</td>\n",
       "      <td>When did the decline of coal start? It started...</td>\n",
       "      <td>energy,history,job-accomplishments</td>\n",
       "      <td>scott-surovell</td>\n",
       "      <td>State delegate</td>\n",
       "      <td>Virginia</td>\n",
       "      <td>democrat</td>\n",
       "      <td>0.0</td>\n",
       "      <td>0.0</td>\n",
       "      <td>1.0</td>\n",
       "      <td>1.0</td>\n",
       "      <td>0.0</td>\n",
       "      <td>a floor speech.</td>\n",
       "    </tr>\n",
       "    <tr>\n",
       "      <th>2</th>\n",
       "      <td>324.json</td>\n",
       "      <td>mostly-true</td>\n",
       "      <td>Hillary Clinton agrees with John McCain \"by vo...</td>\n",
       "      <td>foreign-policy</td>\n",
       "      <td>barack-obama</td>\n",
       "      <td>President</td>\n",
       "      <td>Illinois</td>\n",
       "      <td>democrat</td>\n",
       "      <td>70.0</td>\n",
       "      <td>71.0</td>\n",
       "      <td>160.0</td>\n",
       "      <td>163.0</td>\n",
       "      <td>9.0</td>\n",
       "      <td>Denver</td>\n",
       "    </tr>\n",
       "  </tbody>\n",
       "</table>\n",
       "</div>"
      ],
      "text/plain": [
       "           id  truth-value                                               text  \\\n",
       "0   2635.json        false  Says the Annies List political group supports ...   \n",
       "1  10540.json    half-true  When did the decline of coal start? It started...   \n",
       "2    324.json  mostly-true  Hillary Clinton agrees with John McCain \"by vo...   \n",
       "\n",
       "                                topic            name                   job  \\\n",
       "0                            abortion    dwayne-bohac  State representative   \n",
       "1  energy,history,job-accomplishments  scott-surovell        State delegate   \n",
       "2                      foreign-policy    barack-obama             President   \n",
       "\n",
       "      state    politics  count1  count2  count3  count4  count5  \\\n",
       "0     Texas  republican     0.0     1.0     0.0     0.0     0.0   \n",
       "1  Virginia    democrat     0.0     0.0     1.0     1.0     0.0   \n",
       "2  Illinois    democrat    70.0    71.0   160.0   163.0     9.0   \n",
       "\n",
       "           context  \n",
       "0         a mailer  \n",
       "1  a floor speech.  \n",
       "2           Denver  "
      ]
     },
     "execution_count": 17,
     "metadata": {},
     "output_type": "execute_result"
    }
   ],
   "source": [
    "import pandas as pd\n",
    "import os, codecs\n",
    "\n",
    "# create df\n",
    "df_liar = pd.read_csv(\"train.tsv\", encoding=\"utf8\", sep=\"\\t\", names=[\"id\", \"truth-value\", \n",
    "                                                                     \"text\", \"topic\", \"name\", \"job\", \n",
    "                                                                     \"state\", \"politics\", \"count1\", \"count2\", \n",
    "                                                                     \"count3\", \"count4\", \"count5\", \"context\"])\n",
    "\n",
    "df_liar.head(3)"
   ]
  },
  {
   "cell_type": "code",
   "execution_count": 4,
   "metadata": {},
   "outputs": [],
   "source": [
    "def classify(text):\n",
    "    if text == \"false\":\n",
    "        return 0\n",
    "    elif text == \"true\":\n",
    "        return 1 \n",
    "    else: \n",
    "        return -1 "
   ]
  },
  {
   "cell_type": "code",
   "execution_count": 12,
   "metadata": {},
   "outputs": [],
   "source": [
    "# add the class of truth-values\n",
    "df_liar[\"class\"] = df_liar[\"truth-value\"].apply(classify) "
   ]
  },
  {
   "cell_type": "code",
   "execution_count": 16,
   "metadata": {},
   "outputs": [
    {
     "name": "stdout",
     "output_type": "stream",
     "text": [
      "(3671, 15)\n"
     ]
    },
    {
     "data": {
      "text/html": [
       "<div>\n",
       "<style>\n",
       "    .dataframe thead tr:only-child th {\n",
       "        text-align: right;\n",
       "    }\n",
       "\n",
       "    .dataframe thead th {\n",
       "        text-align: left;\n",
       "    }\n",
       "\n",
       "    .dataframe tbody tr th {\n",
       "        vertical-align: top;\n",
       "    }\n",
       "</style>\n",
       "<table border=\"1\" class=\"dataframe\">\n",
       "  <thead>\n",
       "    <tr style=\"text-align: right;\">\n",
       "      <th></th>\n",
       "      <th>id</th>\n",
       "      <th>truth-value</th>\n",
       "      <th>text</th>\n",
       "      <th>topic</th>\n",
       "      <th>name</th>\n",
       "      <th>job</th>\n",
       "      <th>state</th>\n",
       "      <th>politics</th>\n",
       "      <th>count1</th>\n",
       "      <th>count2</th>\n",
       "      <th>count3</th>\n",
       "      <th>count4</th>\n",
       "      <th>count5</th>\n",
       "      <th>context</th>\n",
       "      <th>class</th>\n",
       "    </tr>\n",
       "  </thead>\n",
       "  <tbody>\n",
       "    <tr>\n",
       "      <th>0</th>\n",
       "      <td>2635.json</td>\n",
       "      <td>false</td>\n",
       "      <td>Says the Annies List political group supports ...</td>\n",
       "      <td>abortion</td>\n",
       "      <td>dwayne-bohac</td>\n",
       "      <td>State representative</td>\n",
       "      <td>Texas</td>\n",
       "      <td>republican</td>\n",
       "      <td>0.0</td>\n",
       "      <td>1.0</td>\n",
       "      <td>0.0</td>\n",
       "      <td>0.0</td>\n",
       "      <td>0.0</td>\n",
       "      <td>a mailer</td>\n",
       "      <td>0</td>\n",
       "    </tr>\n",
       "    <tr>\n",
       "      <th>3</th>\n",
       "      <td>1123.json</td>\n",
       "      <td>false</td>\n",
       "      <td>Health care reform legislation is likely to ma...</td>\n",
       "      <td>health-care</td>\n",
       "      <td>blog-posting</td>\n",
       "      <td>NaN</td>\n",
       "      <td>NaN</td>\n",
       "      <td>none</td>\n",
       "      <td>7.0</td>\n",
       "      <td>19.0</td>\n",
       "      <td>3.0</td>\n",
       "      <td>5.0</td>\n",
       "      <td>44.0</td>\n",
       "      <td>a news release</td>\n",
       "      <td>0</td>\n",
       "    </tr>\n",
       "    <tr>\n",
       "      <th>5</th>\n",
       "      <td>12465.json</td>\n",
       "      <td>true</td>\n",
       "      <td>The Chicago Bears have had more starting quart...</td>\n",
       "      <td>education</td>\n",
       "      <td>robin-vos</td>\n",
       "      <td>Wisconsin Assembly speaker</td>\n",
       "      <td>Wisconsin</td>\n",
       "      <td>republican</td>\n",
       "      <td>0.0</td>\n",
       "      <td>3.0</td>\n",
       "      <td>2.0</td>\n",
       "      <td>5.0</td>\n",
       "      <td>1.0</td>\n",
       "      <td>a an online opinion-piece</td>\n",
       "      <td>1</td>\n",
       "    </tr>\n",
       "  </tbody>\n",
       "</table>\n",
       "</div>"
      ],
      "text/plain": [
       "           id truth-value                                               text  \\\n",
       "0   2635.json       false  Says the Annies List political group supports ...   \n",
       "3   1123.json       false  Health care reform legislation is likely to ma...   \n",
       "5  12465.json        true  The Chicago Bears have had more starting quart...   \n",
       "\n",
       "         topic          name                         job      state  \\\n",
       "0     abortion  dwayne-bohac        State representative      Texas   \n",
       "3  health-care  blog-posting                         NaN        NaN   \n",
       "5    education     robin-vos  Wisconsin Assembly speaker  Wisconsin   \n",
       "\n",
       "     politics  count1  count2  count3  count4  count5  \\\n",
       "0  republican     0.0     1.0     0.0     0.0     0.0   \n",
       "3        none     7.0    19.0     3.0     5.0    44.0   \n",
       "5  republican     0.0     3.0     2.0     5.0     1.0   \n",
       "\n",
       "                     context  class  \n",
       "0                   a mailer      0  \n",
       "3             a news release      0  \n",
       "5  a an online opinion-piece      1  "
      ]
     },
     "execution_count": 16,
     "metadata": {},
     "output_type": "execute_result"
    }
   ],
   "source": [
    "# reduce the dataset to only true/false sentences\n",
    "df_reduced = df_liar[df_liar[\"class\"] != -1]\n",
    "print(df_reduced.shape)\n",
    "df_reduced.head(3)"
   ]
  },
  {
   "cell_type": "code",
   "execution_count": 25,
   "metadata": {},
   "outputs": [
    {
     "data": {
      "text/plain": [
       "(3671, 7451)"
      ]
     },
     "execution_count": 25,
     "metadata": {},
     "output_type": "execute_result"
    }
   ],
   "source": [
    "# TF-IDF representation of the text\n",
    "from sklearn.feature_extraction.text import CountVectorizer\n",
    "count_vect = CountVectorizer()\n",
    "X_train = count_vect.fit(df_reduced.text)\n",
    "X_train = count_vect.transform(df_reduced.text)\n",
    "# --> for the test you use same vectorizer, but just transform (not fit!)\n",
    "X_train.shape"
   ]
  },
  {
   "cell_type": "code",
   "execution_count": 26,
   "metadata": {},
   "outputs": [],
   "source": [
    "# subtract the classes\n",
    "y_train = df_reduced[\"class\"].values"
   ]
  },
  {
   "cell_type": "code",
   "execution_count": 27,
   "metadata": {},
   "outputs": [
    {
     "name": "stderr",
     "output_type": "stream",
     "text": [
      "/Applications/Anaconda/anaconda3/lib/python3.6/site-packages/sklearn/linear_model/logistic.py:947: ConvergenceWarning: lbfgs failed to converge. Increase the number of iterations.\n",
      "  \"of iterations.\", ConvergenceWarning)\n"
     ]
    },
    {
     "data": {
      "text/plain": [
       "LogisticRegression(C=1.0, class_weight=None, dual=False, fit_intercept=True,\n",
       "                   intercept_scaling=1, l1_ratio=None, max_iter=100,\n",
       "                   multi_class='warn', n_jobs=None, penalty='l2',\n",
       "                   random_state=None, solver='lbfgs', tol=0.0001, verbose=0,\n",
       "                   warm_start=False)"
      ]
     },
     "execution_count": 27,
     "metadata": {},
     "output_type": "execute_result"
    }
   ],
   "source": [
    "from sklearn.linear_model import LogisticRegression\n",
    "logreg = LogisticRegression(solver='lbfgs')\n",
    "\n",
    "# Create an instance of Logistic Regression Classifier and fit the data.\n",
    "logreg.fit(X_train, y_train)"
   ]
  },
  {
   "cell_type": "code",
   "execution_count": 28,
   "metadata": {},
   "outputs": [
    {
     "data": {
      "text/plain": [
       "(457, 7451)"
      ]
     },
     "execution_count": 28,
     "metadata": {},
     "output_type": "execute_result"
    }
   ],
   "source": [
    "df_liar_test = pd.read_csv(\"test.tsv\", encoding=\"utf8\", sep=\"\\t\", names=[\"id\", \"truth-value\", \n",
    "                                                                     \"text\", \"topic\", \"name\", \"job\", \n",
    "                                                                     \"state\", \"politics\", \"count1\", \"count2\", \n",
    "                                                                     \"count3\", \"count4\", \"count5\", \"context\"])\n",
    "df_liar_test[\"class\"] = df_liar_test[\"truth-value\"].apply(classify)\n",
    "df_test_reduced = df_liar_test[df_liar_test[\"class\"] != -1]\n",
    "\n",
    "X_test = count_vect.transform(df_test_reduced.text) \n",
    "y_test = df_test_reduced[\"class\"].values\n",
    "X_test.shape"
   ]
  },
  {
   "cell_type": "code",
   "execution_count": 29,
   "metadata": {},
   "outputs": [
    {
     "name": "stdout",
     "output_type": "stream",
     "text": [
      "0.599562363239\n",
      "274\n"
     ]
    },
    {
     "name": "stderr",
     "output_type": "stream",
     "text": [
      "/Applications/Anaconda/anaconda3/lib/python3.6/site-packages/sklearn/linear_model/logistic.py:947: ConvergenceWarning: lbfgs failed to converge. Increase the number of iterations.\n",
      "  \"of iterations.\", ConvergenceWarning)\n"
     ]
    }
   ],
   "source": [
    "# we could try to evaluate the model\n",
    "logreg.fit(X_train, y_train)\n",
    "y_hat_test = logreg.predict(X_test)\n",
    "\n",
    "# evaluate using accuracy: proportion of correctly predicted over total\n",
    "from sklearn.metrics import accuracy_score\n",
    "print(accuracy_score(y_test, y_hat_test))\n",
    "print(accuracy_score(y_test, y_hat_test, normalize=False))"
   ]
  },
  {
   "cell_type": "code",
   "execution_count": 41,
   "metadata": {},
   "outputs": [
    {
     "name": "stdout",
     "output_type": "stream",
     "text": [
      "[[-0.17203638 -0.27699619  0.05011177 ..., -0.15039476  0.27433863\n",
      "   0.47206197]]\n",
      "(1, 7451)\n"
     ]
    }
   ],
   "source": [
    "print(logreg.coef_)\n",
    "print(logreg.coef_.shape)"
   ]
  },
  {
   "cell_type": "code",
   "execution_count": 50,
   "metadata": {},
   "outputs": [
    {
     "name": "stdout",
     "output_type": "stream",
     "text": [
      "dict_keys(['says', 'the', 'annies', 'list', 'political', 'group', 'supports', 'third', 'trimester', 'abortions', 'on', 'demand', 'health', 'care', 'reform', 'legislation', 'is', 'likely', 'to', 'mandate', 'free', 'sex', 'change', 'surgeries', 'chicago', 'bears', 'have', 'had', 'more', 'starting', 'quarterbacks', 'in', 'last', '10', 'years', 'than', 'total', 'number', 'of', 'tenured', 'uw', 'faculty', 'fired', 'during', 'two', 'decades', 'when', 'mitt', 'romney', 'was', 'governor', 'massachusetts', 'we', 'didnt', 'just', 'slow', 'rate', 'growth', 'our', 'government', 'actually', 'cut', 'it', 'mccain', 'opposed', 'requirement', 'that', 'buy', 'american', 'made', 'motorcycles', 'and', 'he', 'said', 'all', 'provisions', 'were', 'quote', 'disgraceful', 'women', 'men', 'both', 'are', 'making', 'less', 'you', 'adjust', 'for', 'inflation', 'john', 'kitzhaber', 'first', 'elected', 'dont', 'know', 'who', 'jonathan', 'gruber', 'isis', 'supporter', 'tweeted', 'at', '34', 'shooting', 'began', '45', 'chattanooga', 'tenn', 'paul', 'ryan', 'still', 'endorsing', 'trump', 'what', 'obama', 'administration', 'going', 'come', 'out', 'with', 'next', 'several', 'months', 'youre', 'not', 'even', 'be', 'able', 'burn', 'coal', 'very', 'limitedly', 'existing', 'plants', 'federal', 'thinks', 'they', 'authority', 'regulate', 'toilet', 'seats', 'austin', 'city', 'has', 'basically', 'doubled', 'size', 'every', '25', 'or', 'so', 'since', 'founded', 'nuclear', 'test', 'conducted', 'nation', 'this', 'time', 'earth', '054th', 'five', 'permanent', 'members', 'security', 'council', '99', 'percent', 'tests', 'under', 'president', 'george', 'bush', 'added', 'trillion', 'debt', 'weve', 'supreme', 'court', 'justice', 'suggested', 'some', 'cases', 'will', 'decided', 'based', 'south', 'african', 'law', 'director', 'homeland', 'cannot', 'use', 'term', 'terrorist', 'attack', 'but', 'instead', 'substitutes', 'man', 'disaster', 'barack', 'took', 'exactly', 'none', 'his', 'own', 'deficit', 'reduction', 'commissions', 'ideas', 'one', 'hillary', 'clinton', '2005', 'co', 'sponsored', 'would', 'jail', 'flag', 'burners', 'terry', 'mcauliffe', 'person', 'invented', 'scheme', 'rent', 'lincoln', 'bedroom', 'created', '800', '000', 'new', 'jobs', 'unemployment', 'almost', 'half', 'today', 'york', 'state', 'private', 'sector', 'ever', 'its', 'history', 'sen', 'campaign', 'announced', 'choosing', 'cabinet', 'only', 'public', 'high', 'schools', 'country', 'offer', 'pe', 'classes', 'military', 'recruiters', 'harvard', 'elena', 'kagan', 'position', 'ruled', 'unanimously', 'she', 'wrong', 'mayor', 'cicilline', 'providence', 'sanctuary', 'bain', 'capital', 'helped', 'start', 'an', 'early', 'childhood', 'learning', 'company', 'called', 'bright', 'horizons', 'lady', 'michelle', 'rightly', 'praised', 'rushed', 'stage', 'him', 'dayton', 'ohio', 'chatter', 'about', 'social', 'media', 'posts', 'if', 'take', 'population', 'here', 'virginia', 'net', 'zero', 'job', 'creation', 'bob', 'mcdonnell', 'became', 'recession', 'consumer', 'native', 'perversity', 'begun', 'save', 'savings', 'now', 'whether', 'nominee', 'should', 'forthcoming', 'confirmation', 'hearings', 'charlie', 'crist', 'cuts', 'medicare', 'advantage', 'program', 'scott', 'brown', 'let', 'employers', 'deny', 'coverage', 'birth', 'control', 'past', '20', 'egypt', 'great', 'strides', 'democratic', 'amount', 'attention', 'paid', 'week', 'chris', 'christie', 'makes', 'benghazi', 'pale', 'significance', 'rep', 'steve', 'southerland', 'voted', 'keep', 'shutdown', 'burdened', 'by', 'fastest', 'growing', 'tax', 'increases', 'any', 'major', 'phoenix', 'arizona', 'no', 'kidnapping', 'world', 'belong', 'afl', 'cio', 'did', 'us', 'lowest', 'depression', '1968', 'americans', 'died', 'from', 'gunfire', 'wars', 'countrys', 'florida', 'department', 'agricultures', 'website', 'freshfromflorida', 'com', 'can', 'used', 'get', 'permit', 'carry', 'loaded', 'hidden', 'gun', 'without', 'leaving', 'your', 'house', 'nato', 'opening', 'up', 'terror', 'division', 'im', 'sure', 'credit', 'largely', 'because', 'saying', 'my', 'criticism', 'always', '100', 'prochoice', 'rating', 'billion', 'day', '98', 'teachers', '12', 'over', '53', 'those', '50', 'old', 'economy', 'creating', 'pace', '1999', 'presidents', 'been', 'governors', 'them', 'senators', '88', 'texas', 'constables', 'line', 'duty', 'as', 'cfo', 'shut', 'down', 'krakow', 'scam', 'refunded', 'million', 'josephine', 'other', 'victims', 'con', 'air', 'force', 'wants', 'taxpayers', 'fund', 'fantasy', 'football', 'league', 'found', 'guaranteed', 'saysmichael', 'bennet', 'close', 'guantanamo', 'bay', 'prisonand', 'bring', 'terrorists', 'right', 'colorado', 'oregonians', 'amazing', 'cost', 'way', 'fight', 'abortion', 'donations', 'mr', 'caprio', 'career', 'politician', 'never', 'worked', 'taken', 'lobbyists', 'business', 'gov', 'rick', 'perry', 'begging', 'send', 'coast', 'guard', 'patrol', 'lakes', 'mexico', 'border', 'dan', 'branch', 'tried', 'expand', 'like', 'admit', 'general', 'revenue', 'goes', 'education', 'whos', 'fought', 'against', 'developers', 'draining', 'everglades', 'illegal', 'immigrants', 'ago', 'patent', 'trademark', 'office', 'received', 'complaints', 'washington', 'redskins', 'name', 'there', 'already', 'solar', 'industry', 'mining', 'thomas', 'eric', 'duncan', 'came', 'into', 'united', 'states', 'elevated', 'temperature', 'webster', 'bill', 'create', 'form', 'marriage', 'trap', 'abusive', 'relationships', 'judges', 'better', 'benefits', 'lower', 'everybody', 'else', 'lot', 'casinos', 'across', 'gone', 'bankrupt', 'small', 'businesses', '70', 'america', 'oil', 'rigs', 'operation', 'rest', 'combined', 'amber', 'alert', 'male', 'babies', 'many', 'whom', 'vote', 'jose', 'cash', 'clunkers', 've', 'got', 'do', 'go', 'local', 'junkyard', 'tow', 're', '500', 'republican', 'guts', 'recognize', 'climate', 'real', '28', 'people', 'killed', 'along', 'denies', 'millions', 'access', 'affordable', 'insurance', '30', 'prison', 'consists', 'core', 'function', 'family', 'research', 'according', 'agencies', 'jim', 'weidner', 'proposed', 'taking', 'away', '80', 'oregons', 'children', '1985', 'election', 'former', 'tom', 'kean', 'largest', 'winning', 'margin', 'gubernatorial', 'candidate', 'jersey', 'obamacare', 'biggest', 'increase', 'ready', 'commander', 'chief', 'member', 'representatives', 'raised', 'most', 'funds', 'contributions', '200', 'unlike', 'gridlock', 'bills', 'passed', 'assembly', 'bipartisan', 'support', 'josh', 'mandel', 'lying', 'record', 'ohios', 'investment', 'improved', 'being', 'forced', 'feisal', 'abdul', 'raufs', 'trip', 'middle', 'east', 'considerably', 'effective', 'joe', 'biden', 'gulf', 'war', 'surge', 'wanted', 'partition', 'iraq', 'healthcare', 'system', 'burns', '18', 'national', 'gdp', 'nobody', 'providences', 'port', 'miles', 'closer', 'europe', 'eastern', 'need', 'photo', 'id', 'purchase', 'sudafed', 'budget', 'plan', 'gross', 'product', 'historically', '40', 'driven', 'costs', 'theyve', 'twelve', 'thrown', 'legal', 'challenges', 'rejected', 'notion', 'unconstitutional', 'warren', 'buffett', 'does', 'me', 'lemieux', 'republicans', 'obamas', 'precinct', 'allen', 'west', 'patrick', 'murphy', 'recount', 'registered', 'voters', 'guatemalan', 'community', 'tally', 'showed', '900', 'enforcement', 'data', 'hubs', 'treasure', 'trove', 'personal', 'info', 'tenure', 'saw', 'houstons', 'crime', 'rates', 'drop', 'levels', 'raise', 'taxes', '700', 'pay', 'infinite', 'promises', 'nearly', 'pregnancies', 'unintended', 'top', 'entire', 'funding', 'same', '1978', 'college', 'tuition', 'nationwide', 'something', 'four', 'times', 'palin', 'supported', 'wing', 'extremist', 'pat', 'buchanan', '2000', 'while', 'fighting', 'move', 'toughen', 'penalties', 'workplace', 'gender', 'discrimination', 'glenn', 'grothman', 'believe', 'belonged', 'home', 'cooking', 'cleaning', 'having', 'put', '47', 'rule', 'infrastructure', 'could', '611', 'repeatedly', 'predatory', 'loans', 'mortgage', 'target', 'latino', 'communities', 'using', 'strategic', 'petroleum', 'reserve', 'upwards', '90', 'seeking', 'decide', 'after', 'seeing', 'ultrasound', 'jason', 'kander', 'remaining', 'suspected', 'soil', 'suburbs', 'inundated', 'residents', 'atlanta', 'housing', 'projects', 'absolutely', 'july', '1996', 'locate', 'missing', 'teenage', 'daughter', 'partner', 'played', 'clips', 'knife', 'well', 'wisconsins', 'perquisites', 'much', 'plans', 'leave', 'workers', 'off', 'their', 'counterparts', '74', 'act', 'alex', 'sink', 'failed', 'homeowners', 'lending', 'practices', 'unlimited', 'until', 'moment', 'including', 'partial', 'taxpayer', 'cleared', 'georgia', 'refugees', 'obtain', 'scholarships', 'attend', '24', 'cant', 'find', 'full', 'see', 'doctor', 'theyre', 'sick', 'help', 'feed', 'themselves', '15', 'families', 'owe', 'value', 'reagan', 'ceiling', 'seven', 'young', 'covered', '33', 'pull', 'truth', 'matter', 'started', 'year', '160', 'troops', 'physically', 'logistically', 'cell', 'phone', 'numbers', 'month', 'clackamas', 'county', 'commissioners', 'approved', 'negotiated', 'agreement', 'countys', 'contribution', 'trimets', 'portland', 'milwaukie', 'light', 'rail', 'project', '19', 'unwinding', 'nations', 'welfare', 'work', 'requirements', 'electric', 'car', 'sales', 'dropped', 'dramatically', 'eliminated', 'annual', 'registration', 'fee', 'imposed', 'black', 'itd', '15th', 'wealthiest', '2008', 'deadliest', 'afghanistan', 'forces', 'amanda', 'fritz', 'manages', 'operations', 'congressman', 'pascrell', 'remove', 'option', 'lawmakers', 'season', 'efforts', 'lead', 'drawing', 'borders', 'cities', 'offshore', 'drilling', 'energy', 'haven', 'missed', '1993', 'jorge', 'elorza', 'impose', 'municipal', 'income', 'teach', 'kids', 'kindergartners', 'gay', 'congress', 'bewildered', 'scope', 'reach', 'spying', 'apparatus', '2012', 'explicitly', 'amendment', 'calling', 'disclosure', 'starts', 'her', 'saysrand', 'paulhas', 'budgets', 'legislative', 'mean', 'spending', 'average', 'per', 'student', 'fundraising', 'grassroots', 'unmatched', 'gotten', 'point', 'where', 'worker', 'twice', 'these', 'appointees', 'ipab', 'make', 'decisions', '300', 'before', 'three', 'back', '1800s', 'row', 'consecutively', 'fifteen', 'master', 'locks', 'unionized', 'plant', 'milwaukee', 'running', 'capacity', 'reed', 'single', 'trade', 'deal', 'camp', 'few', 'mexican', 'authorities', 'confirm', 'projections', 'estimate', 'overhaul', '76', 'above', '940', 'democrats', 'originally', 'claimed', 'indeed', 'ponzi', 'omnibus', 'earmarks', 'enacting', 'senator', 'talking', 'tough', 'good', 'account', 'among', 'highest', 'tolls', 'privilege', 'crossing', 'bridge', 'kay', 'bailey', 'hutchison', 'hired', 'run', 'wasn', 'raging', 'populist', 'ran', 'complained', 'enough', 'consider', 'constitutional', 'ban', 'shoved', 'through', 'proposal', 'days', 'open', 'waters', 'attended', 'convention', 'abolishing', 'case', 'motors', 'wrote', 'check', 'asking', 'conditions', 'then', 'asked', 'disclose', 'donors', 'suspicion', 'foreign', 'source', 'money', 'refused', 'oregon', 'usa', 'continues', 'medical', 'employees', 'wonder', 'why', 'rand', 'hes', 'shopping', 'billionaire', 'hasnt', 'super', 'pac', 'mitchell', 'park', 'domes', 'lose', 'plus', 'legislature', 'youd', 'fire', 'employee', 'little', 'evidence', 'red', 'cameras', 'reduced', 'severity', 'accidents', 'intersections', '29', 'delinquent', 'hate', 'crimes', 'pastor', 'preacher', 'priest', 'rabbi', 'imam', 'gives', 'sermon', 'moral', 'traditions', 'sexual', 'guilty', 'school', 'pupil', '16', 'compared', '2009', 'adjusting', 'working', '2013', 'kristi', 'thibaut', 'acorn', 'lobbyist', 'fiscal', '2011', '191', 'via', 'action', 'rendered', 'completely', 'null', 'void', 'decision', 'expected', 'june', 'how', 'hard', 'ends', 'getting', 'jacobs', 'think', 'someone', 'albany', 'thats', 'region', 'gets', 'fair', 'share', 'leads', 'percentage', 'systematically', 'cutting', 'party', 'modern', 'release', 'least', 'returns', 'hampshire', 'property', '95', '59', 'muslim', 'carol', 'shea', 'porter', 'creators', 'delaying', 'labor', 'districts', 'shave', 'weeks', 'intervene', 'libya', 'gallup', 'poll', 'egyptians', 'want', 'fbi', 'statistics', 'show', 'violent', 'maddox', 'losing', 'campaigns', 'available', 'positions', 'spend', 'hours', 'preparation', 'independent', 'exxon', 'pocketed', 'hour', 'won', 'votes', 'cuyahoga', 'sayspeter', 'kilmartin', 'favor', 'expanding', 'behavior', 'statute', 'offenders', 'letting', 'occupy', 'protesters', 'stay', 'woodruff', 'probation', 'parole', 'enslaved', '1850', 'limiting', 'negotiations', 'wages', 'part', 'del', 'valle', 'drive', 'bastrop', 'closest', 'grocery', 'store', 'mark', 'warner', 'arms', 'treaty', 'certainly', 'international', 'registry', 'setting', 'scale', 'confiscation', 'remind', 'virtually', 'pressure', 'iran', 'stood', 'big', 'companies', 'doctors', 'flying', 'performing', 'maurice', 'ferre', 'kendrick', 'meek', 'democrat', 'wisconsin', 'dead', 'midwestern', 'walkers', 'cents', 'ounce', 'soda', 'philadelphia', 'result', 'loss', 'sustaining', 'teamster', 'union', 'countless', 'beverage', 'repeal', 'smoking', 'sought', 'minister', 'hagee', 'believes', 'hurricane', 'katrina', 'god', 'punishment', 'rights', 'catholic', 'church', 'antichrist', 'false', 'cult', '51', 'filers', 'walker', 'seen', '41', 'attorney', 'treasurer', 'ordered', 'founder', 'gaylord', 'nelson', 'discuss', 'unions', 'earned', 'firefighters', 'police', 'officers', 'play', 'politics', 'interview', 'presidency', 'self', 'financing', 'roughly', 'secondary', 'produce', 'dropouts', 'tens', 'thousands', 'households', 'towards', 'teacher', 'contract', 'longest', 'look', 'accumulated', 'precipitation', 'increased', 'rhode', 'island', 'inches', 'century', 'submitted', 'earliest', 'done', 'meeting', 'obligation', 'update', 'voter', 'registrations', 'address', 'bmv', 'vietnamese', 'commonly', 'spoken', 'language', 'generous', 'opinion', 'triggering', 'cause', 'microcephaly', 'dtap', 'shot', 'vaccine', 'recently', 'mandated', 'brazilian', 'injected', 'pregnant', 'looking', 'agree', 'salaries', 'serving', 'dane', 'executive', 'lost', 'legislators', 'baby', 'bond', 'give', 'each', 'born', 'totaling', 'multiplied', 'hybrid', 'retirement', 'attacks', 'honor', 'repeated', 'requests', 'additional', 'failure', 'limit', 'default', 'payments', 'various', 'pork', 'scoreboard', 'bucks', 'turkey', 'arab', 'dying', 'hiv', 'aids', 'declined', 'between', '2004', '92', 'policy', 'rid', 'finally', 'charge', 'chance', 'double', '395', 'inmates', 'pushed', 'triple', 'bunked', 'cells', 'intended', 'classrooms', 'areas', 'supposed', 'designated', 'inmate', 'aclu', 'call', 'investigation', 'newark', 'immediate', 'monitor', 'highway', 'closed', 'el', 'paso', 'bullets', 'fails', 'extend', 'class', '400', 'eight', 'nine', 'competitive', 'senate', 'races', 'hispanics', 'electorate', 'nikita', 'khrushchev', 'brought', 'extra', 'shoe', 'session', '1960', 'which', 'banged', 'desk', 'protest', 'renacci', 'end', 'special', '27', 'daily', 'living', 'expenses', 'apparently', 'vetting', 'anybody', 'near', 'comes', 'gains', 'issue', '1944', 'blue', 'chip', 'economic', 'indicators', 'surveys', 'lots', 'forecasters', 'predicting', 'turnaround', 'quarter', 'positive', 'fourth', 'center', 'left', 'moved', 'overseas', 'drug', 'induced', 'charged', 'return', 'follow', 'veterans', 'disability', 'claims', 'backlog', 'nytimes', 'sent', 'letter', 'subscribers', 'apologizing', 'bad', 'shrink', '2010', 'alone', '270', 'infants', 'reported', 'following', 'attempted', 'notably', 'death', 'spouse', 'domestic', 'sleep', 'daylight', 'saving', 'might', 'initially', 'pose', 'risks', 'am', 'latina', 'district', 'craft', 'brewery', 'brewers', 'invested', 'raising', '2007', 'nancy', 'pelosi', 'met', 'assad', 'syria', 'upset', 'carcieri', 'mrs', 'host', 'lighting', 'christmas', 'tree', 'second', 'heavily', 'deployed', 'mahatma', 'gandhi', 'once', 'ignore', 'laugh', 'win', '14', 'wisconsinites', 'january', 'noncontiguous', 'central', 'countries', 'exports', 'gasoline', 'diesel', 'fuels', 'imported', '1949', 'richard', 'burr', 'insider', 'trading', 'brave', 'allowed', 'referring', 'email', 'clear', 'monies', 'recouped', 'tarp', 'shall', 'treasury', 'treated', 'worse', 'transportation', 'choice', 'rise', 'ohioans', 'riding', 'passenger', 'trains', 'revealed', 'oppose', 'receiving', 'aid', 'capita', 'agency', 'follows', 'undocumented', 'paying', 'colleges', 'applying', 'residency', 'columbia', 'six', 'consecutive', 'presidential', 'elections', 'code', 'means', 'users', 'waive', 'reasonable', 'privacy', 'information', 'cranston', 'notifications', 'level', 'offender', 'building', 'aircraft', 'long', 'range', 'bombers', 'carriers', 'submarines', 'compliance', 'entirely', 'wasted', 'exporters', 'loophole', 'deceptively', 'sell', 'products', 'cat', 'dog', 'fur', 'consumers', 'either', 'water', 'speaker', 'rubio', 'restrictions', 'included', 'background', 'checks', 'waiting', 'periods', 'hispanic', 'declining', 'twenty', 'ours', 'went', 'unilaterally', 'disarm', 'earmark', 'moratorium', 'milwaukees', 'problems', 'include', '52', 'railroad', 'commissioner', 'michael', 'williams', '150', 'tea', 'gatherings', 'harry', 'reid', 'breaks', 'aliens', 'known', 'veto', 'corleone', 'candidates', 'beat', 'incumbents', '1980', 'respond', 'puerto', 'ricos', 'crisis', 'mentioned', 'mate', 'kerry', 'cast', 'couple', 'lone', 'dissenter', 'inflationary', 'sheriff', 'ninety', 'often', 'increasingly', 'voting', 'opportunities', 'ocean', 'spray', 'moving', 'bordentown', 'processing', 'facility', 'pennsylvania', 'associated', 'regional', 'greenhouse', 'gas', 'initiative', 'northeastern', 'length', 'degree', 'murderers', 'must', 'eligible', 'really', 'programs', 'realized', 'board', 'diane', 'current', 'debate', 'authorizing', 'islamic', 'place', 'limits', 'chiefs', 'ability', 'marijuana', 'jeb', 'smoked', 'alive', 'illinois', 'identical', 'opened', 'subsidy', 'hotel', 'jumped', 'door', 'sessions', 'tells', 'lags', 'behind', 'tiny', 'doesn', 'serious', 'threat', 'entitlements', 'services', 'defense', '2014', 'overwhelmingly', 'amnesty', '11', 'approval', 'ratings', 'yet', '96', 'incumbent', 'consult', 'released', 'except', 'auto', 'bailouts', 'eisenhower', 'staffing', 'ratio', 'seattle', 'wed', 'affairs', 'prohibited', 'recommending', 'difference', '35', 'experience', 'tampa', 'strip', 'club', 'unsealed', 'records', 'marquette', 'university', 'constituent', 'mine', 'cuba', 'venezuela', 'though', 'enemies', 'effect', 'citizens', 'become', 'may', 'far', 'stronger', 'claim', 'protection', '67', 'supervisors', 'effort', 'noncitizens', 'rolls', 'donald', 'also', 'clears', 'condemned', 'violence', 'stop', 'march', 'dem', 'controlled', 'process', 'objective', 'criteria', 'modify', 'constitution', 'draw', 'boundaries', 'sherrod', 'responsible', 'direct', 'manufacturers', 'avg', 'sold', 'franchised', 'dealer', 'model', 'prior', 'impact', 'streetcar', 'projected', '399', 'bluest', 'around', 'longer', 'salary', 'basketball', 'coach', 'don', 'alcohol', 'underage', '21', 'bureaucrat', 'trying', 'tell', 'scan', 'delayed', 'treatment', 'quite', 'present', 'opponent', 'flores', 'laid', 'executives', '13th', 'exceeded', 'tammy', 'baldwin', 'medicine', 'hospitals', 'nothing', 'continue', 'siphon', 'dollars', 'certain', 'accounts', 'falls', 'apart', 'seams', 'spent', 'weekend', 'islamabad', 'pakistan', 'selling', '16s', 'advanced', 'weapons', 'folks', 'harbored', 'osama', 'bin', 'laden', 'doesnt', 'thing', 'kasich', '177', '350', 'costly', 'calls', 'mandates', 'fines', 'area', 'northern', 'iron', 'ore', 'hearing', 'held', 'ive', 'die', 'asthma', 'white', 'given', 'opportunity', 'loaning', '75', '38', 'studios', 'soccer', 'players', 'mens', 'team', 'china', 'owns', 'complying', '163', 'comply', 'laws', 'annually', 'ceo', 'wwe', 'linda', 'mcmahon', 'caught', 'tipping', 'ringside', 'physician', 'illegally', 'distributing', 'steroids', 'wrestlers', 'david', 'beckhams', 'stadium', 'miamis', 'threatens', '207', 'tied', 'cargo', 'cruise', 'industries', 'gave', 'cronies', 'corporate', 'friends', 'contributed', '570', 'development', 'incentives', 'due', 'actions', 'burger', 'king', 'headquarters', 'pulling', 'franchises', 'bases', 'engage', 'conflict', 'land', 'historic', 'signed', 'pledge', 'pride', 'secondgeorge', 'served', 'theu', 'staff', 'fewer', 'decade', 'caseload', 'courts', 'grown', 'detainees', 'h1n1', 'wis', 'startedthe', 'birther', 'controversy', 'anti', 'litigation', 'important', 'factors', 'affecting', 'expansion', 'pasco', 'misconduct', 'disgrace', 'embarrassment', 'grandfather', 'arrived', 'rejecting', 'medicaid', 'texans', 'insure', 'poor', 'fidel', 'castro', 'preferences', 'unkind', 'things', 'say', 'includes', 'sayspresident', 'allies', 'power', 'patients', 'commission', 'unelected', 'bureaucrats', 'officials', 'sending', 'official', 'thank', 'yous', 'foundation', 'affords', 'citizenship', 'anyone', 'legally', 'mary', 'burkes', '130', 'planned', 'parenthood', 'provides', '140', 'visits', 'prenatal', 'didn', 'solution', 'child', 'aspirin', 'permission', 'kind', 'medication', 'secretly', 'adults', 'ages', 'torture', '23', 'prescription', 'benefit', 'low', 'beneficiaries', 'report', 'policies', 'floridas', 'speed', 'newest', 'unconstitutionally', 'enacted', 'professionals', 'required', 'violate', 'hipaa', 'submit', 'justification', 'larger', 'earlier', 'primary', 'caucus', 'esd', 'superintendent', 'speech', 'pathologists', 'needs', 'instructors', 'classroom', 'traffic', 'towers', 'closing', 'located', 'congressional', 'crimea', 'ukraine', '1954', 'russia', 'gesture', 'mystified', 'fiduciary', 'responsibility', 'resign', 'head', 'pled', 'massive', 'amounts', 'systematic', 'fraud', 'felonies', 'leading', 'fine', 'restricts', 'salt', 'food', 'nclaw', 'body', 'camera', 'footage', 'broad', 'video', 'secret', 'individuals', 'filmed', 'couldnt', '42', 'inch', 'redfish', 'fishing', 'rules', 'accuracy', 'males15', 'murder', 'ron', 'johnson', 'essentially', 'heroin', 'addiction', 'opioid', 'abuse', 'named', 'best', 'managed', 'toraise', 'carlos', 'curbelo', 'flood', 'chapters', 'parts', 'aborted', 'fetuses', 'profit', '21st', 'van', 'wanggaard', 'drawn', 'within', 'block', 'islands', 'identification', 'fact', 'jeff', 'greene', 'california', 'statewide', 'lived', 'meet', 'shows', 'threatened', 'virginias', 'isnt', 'shedding', 'fifty', 'majority', 'zip', 'nada', 'leader', 'cantor', 'muslims', 'subject', 'profiling', 'cecile', 'richards', 'concede', '86', 'parenthoods', 'spends', 'tourism', 'advertising', 'significantly', 'higher', 'unionization', 'overall', 'declared', 'grant', 'meaning', 'possible', 'redirect', 'modes', 'allows', 'weapon', 'frankly', 'below', 'anything', 'forty', 'related', 'abraham', 'visited', 'danced', 'chamber', 'premiums', 'medicares', 'fallen', 'front', 'pointed', 'kills', 'barrier', 'innovation', 'dropout', 'inner', 'officer', 'stops', 'whatever', 'later', 'evict', 'tenant', 'uber', 'ride', 'firms', 'date', 'unborn', 'conversation', 'substance', 'jerseycomeback', 'keeps', 'rolling', 'thanks', 'govchristie', 'nj', 'corruption', 'risk', 'passage', 'referendum', 'aquarium', 'clearwater', 'future', 'neighborhoods', 'vetoed', 'previous', 'issued', 'terms', 'everything', 'trail', 'factually', 'accurate', 'thedollar', 'charitable', 'causes', 'adopted', 'coming', '40th', 'anniversary', 'electing', '1972', 'rob', 'cornilles', 'endorsed', 'mayors', 'holder', 'involved', 'dismissal', 'criminal', 'charges', 'panther', 'intimidation', 'owes', 'amenities', 'gorgonzola', 'cheese', 'trips', 'inversions', 'wall', 'street', 'journalsurprisingly', 'attacked', 'field', 'seconds', 'takes', 'text', 'river', 'downstream', 'rice', 'farmers', 'equaled', 'worth', 'austins', 'currently', 'require', 'photographic', 'learn', 'financial', 'guarantee', 'enters', 'kindergarten', 'dental', 'wishing', 'global', 'sign', 'recall', 'petition', 'another', 'signature', 'counts', 'rebuild', 'proves', 'stimulus', '278', 'wives', 'hijackers', 'knew', 'happening', 'saudi', 'arabia', 'watch', 'husbands', 'television', 'planes', 'pursue', 'dreams', 'passions', 'prank', 'blogger', 'posing', 'gop', 'contributor', 'koch', 'publicly', 'seat', 'roland', 'burris', 'remains', 'silent', 'feels', 'honoring', 'farrakhan', 'jon', 'runyan', 'redefine', 'rape', 'stevens', 'protestant', 'stockman', 'filled', 'zones', 'expenditures', 'greater', 'tries', 'undermine', 'irans', 'defend', 'israel', 'saudis', 'resources', 'russians', 'tonight', 'unopposed', 'race', 'santorum', 'navy', 'sailed', 'ships', '60', 'accident', 'openly', 'secured', 'grand', '116', '838', '763', 'mahoning', 'valley', '095', 'pending', 'fy2010', 'north', 'carolina', 'hire', 'apply', 'gecker', 'vehicle', 'fees', 'costing', 'chesterfield', 'licensed', 'firearm', 'dealers', 'mcdonalds', 'game', 'pittsburgh', 'steelers', 'snow', 'leadership', 'contain', 'stamps', '36', 'howard', 'metzenbaum', 'defeated', 'robert', 'taft', '1976', 'puts', 'market', 'worst', 'cobb', 'systems', 'belly', '2016', 'shocking', 'committing', 'suicide', 'especially', 'older', 'clean', 'green', 'pentagons', 'fireworks', 'safer', 'elllis', 'neenah', 'broke', 'depend', 'canada', 'fill', 'fec', 'reports', 'detailed', 'hollen', 'ken', 'kratz', 'sexting', 'environmental', 'regulation', 'jan', 'regulates', 'dust', 'houston', 'cemetery', 'preventing', 'christian', 'prayers', 'funerals', 'adviser', 'lobbied', 'republic', 'mirrored', 'advocated', 'thirds', 'strongly', 'disagree', 'idea', 'permanently', 'peoples', 'collective', 'bargaining', '6th', 'manufacturing', 'pocketing', 'destroy', 'mitch', 'mcconnell', 'cover', 'granite', 'staters', 'hold', 'individual', 'anthem', 'renew', 'practice', 'birthright', 'reached', 'lines', 'significant', 'chai', 'distributed', 'watered', 'aidsdrugs', 'sub', 'saharan', 'africa', 'study', 'bail', 'defendants', 'skipping', 'appearances', 'solved', 'problem', 'scientists', 'waste', 'internal', 'service', 'estimated', 'agents', 'enforce', 'atlantic', 'shore', 'earners', '97', 'recovered', 'trafficking', 'socialized', 'pwned', 'dominates', 'twitter', 'youtube', 'pump', 'nominees', 'mathematically', 'impossible', 'elect', 'non', 'anglo', 'outlawed', 'plain', 'simple', 'katko', 'promised', 'wouldnt', 'defund', 'bureau', 'attributed', 'sharp', 'fatalities', 'increasing', 'drivers', 'read', 'understand', 'warning', 'signs', 'english', 'voluntarily', 'ensure', 'territorial', 'integrity', 'heard', 'endlessly', 'waterboarding', 'happened', 'prosecuted', 'perrys', 'serve', 'degrees', 'england', 'exception', 'maine', 'preventive', 'slavesfreedom', 'cent', 'paper', 'bags', 'summit', 'sequester', 'debbie', 'wasserman', 'schultz', 'borrows', 'clayton', 'offers', 'operating', 'millage', 'metro', 'homicides', 'committed', 'decreased', 'involving', 'plummeted', 'opposes', 'holiday', 'remember', '195', 'contractors', 'tap', 'construction', 'devils', 'managing', 'vanderbeek', 'arbitration', 'judge', 'sanctions', 'tennessee', 'lawyer', 'bringing', 'frivolous', 'lawsuit', 'values', 'stamp', 'again', 'counting', 'shortfalls', 'requires', '358', 'regulatory', 'filings', '1982', '439', 'tips', 'dunkin', 'donuts', 'banning', 'assault', 'loses', 'collects', 'corzine', 'smartest', 'guy', 'finance', 'funded', 'illegals', 'skyrocketing', 'bracket', 'jeanne', 'shaheen', 'principally', 'plot', 'lois', 'lerner', 'appointee', 'irs', 'harassment', 'conservative', 'nonprofit', 'groups', 'patriots', 'fundraiser', 'featuring', 'author', 'registering', 'un', 'dozen', 'nowhere', 'stroke', 'pen', 'denied', 'supplies', 'fitzgerald', 'necessary', 'eliminate', 'order', 'balance', 'ted', 'kennedys', 'ammo', 'outlaw', 'deer', 'hunting', 'ammunition', 'womens', 'tennessees', 'outcomes', 'changing', 'postsecondary', 'institutions', 'islanders', 'repair', 'overdosing', 'accidental', 'killer', 'commonwealth', 'toledo', 'mike', 'bell', 'firefighter', 'max', 'carries', 'evening', 'rush', 'commuters', 'traveling', 'downtown', 'sunset', 'banfield', 'freeways', 'vice', 'experts', 'saved', 'gwinnett', 'interest', 'verona', 'swanigan', 'prosecutor', 'changes', 'sentencing', 'disapproval', 'nixon', 'turns', 'voucher', 'garbage', 'allan', 'fung', 'atwaters', 'busy', 'helping', 'wasting', '48', 'lavish', 'dubbed', 'taj', 'mahal', 'golf', 'musuem', '110', 'build', 'despite', 'predicted', 'employer', 'provided', 'james', 'comeys', 'developments', 'emails', 'terrorism', 'trillions', 'billions', 'ronald', 'cannabis', 'immigration', 'household', 'theres', 'reauthorization', 'export', 'import', 'bank', 'salmonella', 'identified', 'fda', 'wait', 'live', 'peanut', 'quonset', 'hedge', 'managers', 'sheet', 'metal', 'parma', 'cleveland', 'news', 'inadequate', 'secede', 'provision', 'carereform', 'nebraska', 'secretary', 'productive', 'keeping', 'lax', 'guns', 'commerce', 'carbon', 'regulations', 'kill', '244', 'followed', 'precedent', 'erased', 'electronic', 'communications', 'floundering', 'crushing', 'provide', 'mammograms', 'refers', 'mammography', 'providers', 'middlewoman', 'births', 'tv', 'healthy', 'woman', 'pacemaker', 'pain', 'pill', 'accomplishments', 'basis', 'occasion', 'nafta', 'boon', 'russ', 'feingold', 'begich', 'deciding', 'recovering', 'slower', 'violatedfederal', 'scuba', 'diving', 'tested', 'mosque', 'cultural', 'prayer', 'odds', 'monopoly', 'millionaire', 'instant', 'devote', 'lent', 'owned', 'brazil', 'allow', 'explore', 'islam', 'jefferson', 'led', 'slashed', 'resulted', 'elimination', 'hegar', 'mental', 'cops', 'sit', 'squad', 'cars', 'mentally', 'ill', 'patient', 'sometimes', 'shift', 'doing', 'proposing', '250', 'banks', 'generate', 'late', 'overdraft', 'eighty', 'cold', 'blood', 'routinely', 'clintons', 'alderman', 'civil', 'polite', 'dollar', 'steam', 'sometime', 'latinos', 'anglos', 'happen', 'ten', 'segment', 'beer', 'hourproposal', 'aggressive', 'minimum', 'wage', 'rural', '55', 'illiterate', 'morocco', 'multnomah', 'library', 'busiest', 'centerpiece', 'slots', 'mandatory', 'ultrasounds', 'comedians', 'india', 'tour', 'intelligence', 'collect', 'abiding', 'connection', 'petitions', 'holperin', 'harassing', 'telemarketers', 'claiming', 'represent', 'insinuating', 'foul', 'circulators', 'payingjust', 'uncompensated', 'whenever', 'damaged', 'carter', 'axelrod', 'advisor', 'appoint', 'czars', 'replace', 'seniors', 'exempt', 'toomey', 'eliminating', 'wealth', 'evenly', 'castigated', 'settlements', 'rockets', 'rained', 'gaza', 'restrictive', 'picking', 'recommended', 'incentivized', 'militarization', 'precincts', 'trespassing', 'becoming', 'mules', 'rounds', 'redistricting', 'interactive', 'transparent', '18th', 'generation', 'choose', 'felons', 'refuse', 'willing', 'card', 'marco', 'restored', 'convicted', 'handing', '31', 'rack', 'chevrolet', 'volt', 'penalty', 'imposes', 'decrease', 'workforce', 'overdoses', 'common', 'espoused', 'nursing', 'homes', 'ess', 'tenth', 'atlantas', 'levy', 'sb', '1070', 'releasing', 'photographs', 'depicting', 'prisoners', 'personally', 'agreed', 'pass', 'join', '37', 'fellow', 'poverty', '13', 'israels', 'probably', 'fourths', 'track', 'reversal', 'declines', 'weather', 'underground', 'william', 'ayers', 'relationship', 'continued', 'promise', 'comprehensive', 'mostly', 'aimed', 'side', 'rebecca', 'bradley', 'brendan', 'doherty', 'eligibility', 'age', 'regard', 'demanding', 'occupations', 'ii', 'newport', 'tent', 'town', 'whole', 'different', 'set', 'permits', 'pitch', 'jackow', 'de', 'justices', 'confirmed', '1912', 'sharpe', 'vacancy', 'lasting', '237', 'strengthened', 'expanded', 'halt', 'epa', 'regulating', 'gases', 'rising', 'prices', 'measles', '108', 'surplus', 'roads', 'hit', 'occur', 'kyrillos', 'investors', 'bust', 'gm', 'weight', 'warming', 'maybe', 'natural', 'science', 'dispute', 'mercedes', 'georgias', 'landing', 'companys', 'directed', 'contracts', 'haitian', 'recovery', 'earthquake', 'drinking', 'parks', 'rival', 'tommy', 'thompson', 'ground', 'bankruptcy', 'coins', 'trust', 'dome', 'returned', 'happens', 'himself', 'earn', 'western', 'ended', 'ask', 'borrowing', 'approximately', 'northwest', 'corridor', 'cherokee', 'counties', 'destroying', 'supporting', 'winner', 'superdelegate', 'advance', 'keystone', 'xl', 'pipeline', 'requiring', 'testing', 'receive', 'straight', 'saysgop', 'darryl', 'jeopardize', 'fundingfor', '320', 'coloradans', 'destroyed', 'ranked', '25th', '7th', 'bottom', 'untreated', 'decay', '32', 'similar', 'kennedy', 'soviet', 'yuri', 'andropov', 'soviets', 'overreact', 'establish', 'sharia', 'inside', 'irving', 'yes', 'pete', 'hoekstra', 'whereabouts', 'mission', 'embargo', 'loan', 'deductible', 'students', 'commerces', 'survey', 'respondents', 'madison', 'outside', 'runoff', 'grady', 'yarbrough', 'previously', 'extending', 'era', 'enroll', '22', 'repealing', '17th', 'bushs', 'disrupt', 'raises', 'popcorn', 'popper', 'fry', 'squirrel', '1984', '1986', '1987', 'ky', 'stated', 'slavery', 'barred', 'maternity', 'pre', 'condition', 'earning', 'commute', '850', 'course', 'sixty', 'retirees', 'strictly', 'mayoral', 'buckhorn', 'forcing', 'locked', 'trunks', 'cruisers', 'pool', 'bought', 'ad', 'telling', 'competition', 'streets', 'arrested', 'broward', 'accepting', 'favors', 'appraises', 'piece', 'appraisal', 'blindness', 'worldwide', 'revenues', 'large', 'directly', 'alaska', 'serves', 'universities', 'invaded', 'saddam', 'hussein', 'acquire', 'mass', 'destruction', 'capture', 'offsets', 'sarah', 'haul', 'san', 'francisco', 'trucks', 'flee', 'golden', 'energys', 'ton', 'shown', 'wind', 'compensation', 'eminent', 'domain', 'romneys', 'negative', 'ads', '10th', 'forget', 'licenses', 'incubators', 'generated', 'harding', 'recessions', 'produced', 'rapid', 'dramatic', 'recoveries', 'herbert', 'hoover', 'opposite', 'quadrupled', '1979', 'typical', 'familys', 'incomes', 'barely', 'budged', 'ongoing', 'blind', 'outrageous', 'institutes', 'kathryn', 'starkey', 'joined', 'liberal', 'hike', 'maggie', 'hassan', 'female', 'paine', 'patriot', 'protect', 'radiation', 'tsa', 'scanners', 'equivalent', 'minutes', 'travel', 'feet', 'todd', 'akin', 'partly', 'womans', 'shutting', 'pregnancy', 'shes', 'raped', 'crushes', 'although', '71', 'megachurch', 'lake', 'forest', 'calif', '2724', 'json', 'true', 'stewart', 'negatively', 'impacted', 'stability', 'tapped', 'socialist', 'korea', 'giving', 'alaskan', 'doubleaballpark', 'charleston', 'va', 'drugs', 'frequently', 'socio', 'midwest', 'chances', 'unfairly', 'verify', 'politicians', 'groceries', 'nor', 'material', 'marked', 'classified', 'server', 'whilesecretary', 'kid', 'averaged', 'admitted', 'changed', 'influence', 'powerful', 'interests', 'scientist', 'fault', 'stack', 'majorities', 'lyndon', 'faster', 'rammed', 'input', 'loopholes', 'dozens', 'artists', 'justin', 'timberlake', 'jay', 'rihanna', 'canceling', 'stevie', 'stand', 'newt', 'gingrichs', 'freddie', 'mac', 'deporting', 'saves', 'connie', 'mack', 'iv', 'senior', 'invest', 'stock', 'flooding', 'effectively', '17', 'helicopters', 'fulton', 'successfully', 'olds', 'technology', 'improvements', 'pease', 'elementary', 'pretty', 'proud', 'separate', 'database', 'pharmacies', 'hayworth', 'corporation', 'lobby', 'committee', 'investigating', 'tech', 'shootings', 'blacksburg', 'talk', 'kinds', 'lawsuits', 'battle', 'damascus', 'disincorporation', 'refinance', 'lee', 'zeldin', '3rds', 'square', 'loranne', 'ausleys', 'train', 'wreck', 'pushing', 'weren', 'actively', 'canadian', 'cruz', 'passport', 'holly', 'turner', 'primaries', 'poisoning', 'mercury', 'aluminum', 'vaccines', 'congressmen', 'forcible', 'sayshillary', 'abolish', 'poorest', 'internet', 'subscription', 'limitation', 'studies', 'existent', 'correct', 'jennifer', 'brunner', 'inherited', 'blackwells', 'mismanagement', 'deformed', 'alcoholics', 'carrying', 'vietnams', 'exchanging', 'cancer', 'vaccinating', 'girls', 'virus', 'cervical', 'shelled', 'denying', '94', 'kesha', 'rogers', 'seventy', 'emergency', 'cheaper', 'dirty', 'fossil', 'recent', 'uptick', 'appears', 'coincide', 'expectation', 'kirk', 'pentagon', 'improperly', 'mingling', 'botched', 'branded', 'memorial', 'tucson', 'together', 'thrive', 'logo', 'slogan', 'night', 'normandy', 'invasion', 'resignation', 'army', 'landings', 'reversed', 'commitment', 'begin', 'withdrawing', 'immediately', 'accounted', 'percentof', 'convictions', '2015', 'words', 'al', 'qaida', 'february', '2001', 'dependent', 'donor', '61', 'interestingly', 'kentucky', 'print', 'everybodys', 'sonia', 'sotomayor', 'propaganda', 'sites', 'saysabout', 'recruit', 'fighters', 'endorse', 'graham', 'eat', 'catfish', 'november', 'hottest', 'recorded', 'upheld', 'lives', 'otherwise', 'prevented', 'obtaining', 'whitman', 'unfunded', 'strong', 'suit', 'factories', 'agriculture', 'tainted', 'beef', 'cafeterias', 'lewis', 'hero', 'allegations', 'somehow', 'chapter', 'repudiate', 'remarks', 'equal', '128', 'word', 'lunatic', 'shortfall', '2003', 'overwhelming', 'stayed', 'grew', 'thirty', 'focusing', 'occupancy', 'vehicles', 'expire', 'industrial', 'capability', 'thefts', 'st', 'petersburg', 'caused', 'keys', 'participation', '501', 'applications', 'amounting', 'superstorm', 'sandy', 'personnel', 'pearl', 'harbor', 'automatic', 'nfl', 'points', 'odd', 'attempts', 'stratosphere', 'uninsured', 'thevalley', 'newspaper', 'timeline', 'landslide', 'victory', 'electoral', 'written', 'ensuring', 'harrisburg', 'gingrich', 'tim', 'pawlenty', 'huckabee', 'sheriffs', 'throughout', 'lacks', 'proportion', 'anywhere', 'mothers', 'turn', 'deadline', 'multitude', 'prevent', 'deadly', 'crippling', 'diseases', 'holds', '26', 'standards', 'feds', 'lockout', 'defending', 'certificate', 'rationing', 'backed', 'sean', 'duffy', 'conduct', 'audits', 'implement', 'geithner', 'table', 'abandoning', 'multinational', 'currency', 'martin', 'heinrich', 'fcat', 'instructional', 'tanning', 'sued', 'buddies', 'acted', 'helicopter', 'hog', 'hunts', 'exploring', 'solyndra', 'blocked', 'californias', 'leffingwell', 'push', 'ferguson', 'mo', 'relations', 'told', 'boeing', 'factory', 'newtown', 'winery', 'charlottesville', 'accessible', 'transit', 'principles', 'truck', 'wound', 'ahead', 'luxury', 'jet', 'ebay', 'protections', 'couldn', 'ruth', 'bader', 'ginsburg', 'prefers', 'exceed', 'ourselves', 'powell', 'butte', 'reservoir', 'challenger', 'dominic', 'chavez', 'struggling', 'stopped', 'laundry', 'randi', 'shade', 'receipts', 'exceeding', 'administrations', 'version', 'beach', 'hundreds', 'cheerleaders', 'dallas', 'cowboys', 'entertained', 'hope', 'capitol', 'rotunda', 'invite', 'accommodate', 'protests', '214', 'opt', 'exchanges', 'incentive', 'abbott', 'laboratories', 'contained', 'goals', 'legacy', 'taxing', 'crippled', 'bizarrely', 'teaching', 'hospital', 'argued', 'request', 'merit', 'blaming', 'plagiarizing', 'mexicans', 'rapists', '09', '310', 'dating', 'youve', 'misdemeanor', 'norcross', 'liked', 'sized', 'commercial', 'reactor', 'mile', '1970s', '43', 'exact', 'iowa', 'nevada', 'ranks', 'diplomas', 'warmed', 'proven', 'scientifically', 'bruce', 'springsteen', '1975', 'seton', 'hall', 'orange', 'walsh', 'gym', 'tarpon', 'springs', 'homeless', 'apprehended', 'steady', 'watching', 'sitting', 'wal', 'mart', 'franklin', 'roosevelt', 'affected', 'widows', 'orphans', 'refuses', 'testify', 'bryson', 'portman', 'abu', 'bakr', 'baghdadi', 'nra', 'cap', 'fixing', 'bridges', 'training', 'exacerbate', 'provisional', 'ballot', 'hb', '194', 'solve', 'tower', 'sharron', 'angle', 'bps', 'compensate', 'spill', 'slush', 'tracks', 'august', '2006', 'october', 'deficits', 'monthly', 'attached', 'technical', 'portion', 'seem', 'indicate', 'minors', 'easy', 'easier', 'meant', 'reduce', 'books', 'writing', 'book', 'measure', 'reduces', 'hurd', 'tends', 'greece', 'metropolitan', 'miami', 'borrowed', 'cigarette', 'butts', 'poison', 'nicotine', '319', '93', 'pinprick', 'strikes', 'intervention', 'residual', 'wouldn', 'edwards', 'universal', 'glad', 'libraries', '44', 'appeared', 'diabetes', 'infomercials', 'cures', 'treatments', 'endanger', '575', 'dairy', 'facilities', '58', 'swine', 'corn', 'farms', 'cattle', 'employment', 'discriminates', 'daycare', 'parents', 'owners', 'religious', 'freedom', 'agrees', 'mosquito', 'fairmount', 'conservancy', '89', 'radius', 'lets', 'premise', 'strictest', 'amongst', 'drought', '1980s', 'southwestern', 'desert', 'itself', 'electricity', 'bernie', 'sanders', 'wasnt', 'popular', 'persons', 'enrolled', 'elective', 'premium', 'dave', 'brat', 'welders', 'philosophers', 'teddy', 'spoke', 'loudly', 'looming', 'hikes', 'debra', 'medina', 'search', 'google', 'remainder', 'brennan', 'geographic', 'drone', 'strike', 'responded', 'magazine', 'roe', 'wade', 'celebrity', '85', 'grads', 'totally', 'literally', 'suzanne', 'bonamici', '1928', 'brackets', 'saxby', 'chambliss', 'conservatives', 'sacrificed', 'kept', 'standing', 'till', 'powered', 'docked', 'reading', 'proficiency', 'adopt', 'baucus', 'subsidize', 'wildly', 'unpopular', 'independents', 'developing', 'parent', 'trigger', 'drafted', 'advisers', 'norm', 'father', 'groundbreaking', 'works', 'reforms', 'affiliated', 'issues', 'blatantly', 'attempting', 'legalizing', 'aig', 'dole', 'bonuses', 'bombed', 'blamed', 'hamas', 'hillsboroughs', 'cabbies', 'wear', 'socks', 'please', 'gore', 'quality', '1965', 'untold', 'beginning', 'figure', 'trans', 'pacific', 'partnership', 'cohen', 'shelby', 'brothers', 'polluters', 'exempts', 'fuel', 'motor', 'coos', 'mother', 'tobacco', 'standpoint', 'neither', 'reconciliation', 'trenton', 'ballots', 'computers', 'encourages', 'collectors', 'soldier', 'combat', 'dianne', 'feinstein', 'rounding', 'em', 'liberation', 'humana', 'aarp', 'inconsistently', 'communicate', 'built', 'iranians', '77', 'witnessed', 'jailing', 'detained', 'maryellen', 'oshaughnessy', 'accepted', 'indicted', 'jimmy', 'dimora', 'math', 'bible', 'incarcerates', 'apartheid', 'readiness', 'coordinating', 'figures', '65', '66', 'deserved', 'reputation', 'gold', 'standard', 'safety', 'fail', 'avert', 'cliff', 'ryans', 'eliminates', 'screening', 'hughes', 'paving', 'acres', 'sprawl', 'representative', 'sentences', 'offered', 'platform', 'seeks', 'further', 'status', 'unless', 'fox', 'uses', 'married', 'promoting', 'traditional', 'jobless', 'management', 'discriminating', 'breaking', 'ironic', 'corp', 'supply', 'murdered', 'knives', 'hands', 'clubs', 'hammers', 'type', 'rifle', 'kaine', 'oversaw', 'huge', 'tremendous', 'crow', 'broken', 'teen', 'saysbernie', 'immunity', 'sellers', 'surpluses', 'proceeds', 'stabilize', 'truman', 'easing', 'sundays', 'crashes', 'polls', 'facts', 'appellate', 'review', 'completed', 'await', 'warrant', 'gangs', 'proposition', '57', 'passes', 'discharge', 'yard', 'gang', 'blow', 'chose', 'nathan', '600', 'bath', 'salts', 'raccoons', 'stolen', 'retiring', '119', 'lifetime', '357', 'stem', 'ceos', '770', 'rose', 'statistically', 'largesse', 'havent', 'malfunctioning', '109', 'scheduled', '49', 'treatyinfringes', 'upon', 'bear', 'aligned', 'jewish', 'purim', 'halloween', 'reformer', 'funny', 'escaped', 'imprisonment', 'cnns', 'wolf', 'blitzer', 'assets', 'totaled', '63', 'category', 'louisiana', 'penny', 'inaction', 'deemed', 'unlawful', 'purchasing', 'colonia', 'farm', '1992', 'causation', 'comp', 'delano', 'felt', 'bald', 'paulson', 'chairman', 'bernanke', 'subprime', 'rock', 'star', 'kelly', 'ayotte', 'yesterday', 'buyers', 'simply', 'online', 'active', 'cashed', 'walking', 'demise', 'hemisphere', 'abuses', 'concrete', 'proposals', 'statements', 'love', 'committees', 'subcommittees', 'gary', 'absolute', 'lie', '400k', 'remodeling', 'offices', 'lounge', 'places', 'dangerous', 'oakland', 'seriously', 'servicemen', 'extended', 'privileges', 'period', 'childs', 'disease', 'immunizations', 'graduation', 'endorsements', 'annexation', 'overcrowding', 'decaturs', 'pacs', 'emissions', 'nature', 'barbara', 'boxer', 'noted', 'observers', 'appointed', 'rather', 'superintendents', 'span', 'visitors', 'lagged', 'policemen', 'applied', '79', 'gap', '877', 'gallons', '72', 'commercials', 'vicious', 'jerseyans', 'shouldnt', 'existed', 'hb2', 'wyden', 'exotic', 'ants', 'entering', 'ninth', 'grade', 'hodges', 'badly', 'braves', 'oldest', 'continuously', 'professional', 'sports', 'franchise', 'writes', 'story', 'trumps', 'wrongdoing', 'paragraph', 'bans', 'implementation', 'hospitality', 'ones', 'richmond', 'vegan', 'friendly', 'relatives', 'spokesman', 'paycheck', 'profitmaking', 'life', 'wendy', 'davis', 'experienced', 'intends', 'andy', 'stern', 'frequent', 'visitor', 'recruiting', 'tool', 'johnsons', 'employ', 'bike', 'crosswalk', 'dip', 'wheel', 'road', 'garcia', 'utility', 'lifespan', 'bluntly', 'sooner', 'too', 'happy', 'ribbon', 'cuttings', 'anight', 'denham', 'ca', 'broker', 'bragged', 'abele', 'estabrook', 'dam', 'dodd', 'frank', 'entry', 'janitor', 'correlation', 'turnout', 'wins', 'fall', 'academic', 'preschool', 'disappear', 'childrens', 'malaysia', 'indentured', 'servants', 'passports', 'slave', 'racist', 'considered', 'amiddle', 'donates', 'charity', 'gates', 'presidentially', 'airport', 'illnesses', 'illness', 'armed', 'stockpiling', 'lawyers', 'picks', 'swapped', 'bowe', 'bergdahl', 'battlefield', 'luther', 'jr', 'alaskas', 'prince', 'sound', 'pristine', 'personhood', 'conforming', 'rulings', 'sat', 'scores', 'base', '176', 'restriction', 'ownership', '808', 'supportive', 'brady', 'marshall', 'macon', 'turbines', 'blacks', 'whites', 'accept', 'bribe', 'somebody', 'removed', 'vast', 'syrian', 'bodied', 'contact', 'views', 'overturned', 'vaccination', 'restoring', 'stories', 'drowned', 'april', 'network', 'dow', 'chemical', 'oklahoma', 'allowing', 'abusers', 'sidestep', 'abuser', 'walk', 'questions', 'floridians', 'foreigners', 'panel', 'investigate', 'hunger', 'expressed', 'legislated', 'recognized', 'organization', 'difficult', 'alternative', 'pension', 'layoffs', 'bumped', 'contrary', 'belief', 'employeeswe', 'walton', 'walmart', 'targeted', 'severe', 'cutback', 'gaos', 'wipe', 'flies', 'face', 'lehman', 'crackdown', 'codes', 'similarity', 'governing', 'incoming', 'dean', 'cannon', 'haridopolos', 'champion', 'comment', 'extremists', 'jv', 'specifically', 'handful', 'drones', 'thanked', 'createda', 'schedule', 'maximize', 'consume', 'robocall', 'sea', '1920s', 'bermuda', 'disclosures', 'washing', 'covering', 'mouth', 'cough', 'reducing', 'transmission', 'flu', 'tuesday', 'ward', 'saysproposal', 'boostteacherpension', 'fundputs', 'accused', 'raping', 'laughing', 'occasions', 'girl', 'wearing', 'glasses', 'traumatic', 'brain', 'injury', '84', 'relation', 'payroll', 'primarily', 'rio', 'grande', 'attrition', 'manhattan', 'deaths', 'saints', 'undefeated', 'bowl', 'expensive', 'assemblies', 'famous', 'campaigned', 'behalf', '211', 'kansans', 'conventional', 'governments', 'innocent', 'victim', 'declaration', 'independence', 'hemp', 'carters', 'seals', 'ipods', 'dolphins', 'pays', 'rolled', 'price', 'tag', 'collected', 'redistributed', 'elsewhere', '475', 'induce', 'deport', 'hell', 'u201cthirty', 'u2019t', 'u201d', 'pensions', 'advancing', 'formula', '1916', '1940s', 'trees', 'filibusters', 'thousand', 'holders', 'patterned', 'maintained', 'americas', 'toughest', 'ethics', 'surrounding', 'circle', 'infant', 'mortality', 'exceeds', 'human', 'activity', 'causing', 'lubbock', 'suspects', 'alleged', 'dolls', 'conceal', 'explosives', '1995', 'jumbo', 'jets', 'gallon', 'contains', 'approve', 'hillsborough', '48th', 'venture', 'federally', 'license', 'revoked', 'engaged', 'inventory', 'prevailing', 'collection', 'reelection', 'carried', '62', 'expects', 'informational', 'texts', 'whatsoever', 'forward', 'margaret', 'thatcher', 'wobbly', 'touched', '68', 'drill', 'main', 'benefiting', 'rations', 'britain', 'sandra', 'connor', 'reason', 'judicial', 'antonio', 'ordinance', 'restrooms', 'cornyn', 'pal', 'dewhurst', 'runs', 'worship', 'reclaiming', 'sixth', 'median', 'whove', 'langevin', 'pot', 'realize', 'geneva', 'playing', 'games', 'lottery', 'burden', 'census', '190', 'startups', 'fast', '180', 'rich', 'corporations', 'crucifying', 'christians', 'nailing', 'sticker', 'helmets', 'expense', 'importance', 'split', 'arena', 'clinics', 'dick', 'cheney', 'unable', 'visit', 'outstanding', 'warrants', 'removal', 'medium', 'fish', 'barriers', 'rehabilitate', 'roading', 'trails', 'atvs', 'libyan', 'versus', 'govjaynixon', 'overridden', 'moleg', 'hca', 'filibuster', 'alito', 'sits', 'polling', 'association', 'flowed', 'coffers', 'daniel', 'approaching', 'volvo', 'spurned', '455', 'promising', 'investments', 'peach', 'fdr', 'communist', 'consequence', 'bypassed', 'authorize', 'slash', 'pilots', 'designed', 'arsenal', 'equipment', 'log', 'web', 'site', 'computer', 'seize', 'taxed', 'round', 'repayments', 'turned', 'spanish', 'chinese', 'likes', 'deals', 'inequality', 'faces', 'names', 'unemployed', 'underemployed', 'wake', 'crash', 'midterm', 'mcgreevey', 'concluded', 'therefore', 'unsuccessful', 'alleviating', 'congestion', 'payer', 'rainy', '643', 'deliberately', 'endowed', 'creator', '165', 'bigger', 'frisk', 'widget', 'chair', 'joint', 'ways', 'key', 'perspective', 'jesus', 'christ', 'leaks', 'donated', 'prospects', 'maxed', 'monday', 'kurt', 'schrader', 'leaders', 'failing', 'viable', 'question', 'baseball', 'player', '248', 'contests', 'multiple', 'solutions', 'scientific', 'co2', 'pollutant', 'concentrations', 'ecosystems', 'animal', 'martinez', 'prosecutors', 'avoid', 'facing', 'stuck', '657', 'rugsthey', 'honey', 'glazed', 'chicken', 'pilaf', '39', 'banned', 'texting', 'driving', 'existence', 'swearing', 'ram', 'outstrip', 'ending', 'payment', 'ought', 'keith', 'olbermann', 'soon', 'eclipse', 'deepest', 'successful', 'contraception', 'capped', 'froze', 'dekalb', 'swap', 'cure', 'cryptosporidium', 'ch2m', 'hill', 'mid', '1990s', 'concern', 'subjected', 'listening', 'excluding', 'press', 'imprisoned', 'ben', 'chafin', 'southwest', 'votingto', 'palace', 'debated', 'overnight', 'substantial', 'iranian', 'hair', 'beaten', 'ushered', 'flip', 'flopped', 'jurisdiction', '80s', 'delivered', 'murders', 'louis', 'surveille', 'engaging', 'discussions', 'ebola', 'numberonein', 'energyresources', 'isnumber', '550', 'jerseys', 'reformed', 'partially', 'ineffective', 'hansen', 'perhaps', 'newly', 'insured', 'reagans', 'referred', 'opposition', 'pharmacists', 'racial', 'ethnic', 'makeup', 'mirrors', 'clarkston', 'decriminalize', 'trusted', 'portmans', 'chinas', 'dumping', 'steel', 'looked', '2070', 'legitimate', 'pricing', 'tolerant', 'advocating', 'dealings', 'mob', 'mafia', 'fred', 'clark', 'baraboo', 'injured', 'bicyclist', 'privatization', '82', 'placed', 'planning', 'centers', 'christies', 'daschle', 'treating', 'rare', 'determination', 'retired', 'amash', 'balanced', 'passing', 'chairmanship', 'disneyland', '2023', '722', '696', 'fix', 'reich', 'killing', 'americanscant', 'unexpected', 'cards', 'appropriations', 'obey', 'others', 'hearts', 'slouches', 'poizner', 'buck', 'incest', 'kenney', 'highly', 'qualified', 'appropriately', 'utilizing', 'appraisers', 'trained', 'mechanic', 'airline', 'afscme', 'forum', 'pick', 'fighter', 'supremacist', 'involvement', 'withnutritional', 'supplement', 'mannatech', 'enact', '272', 'basic', 'approach', 'dismantle', 'exchange', 'dismantling', 'drained', '360', 'rental', 'mansion', 'repaired', 'pages', 'paychecks', 'facilitate', 'accelerate', 'acquiring', 'raking', 'dnc', 'hack', 'debates', 'continuing', 'ploy', 'mccollum', 'whose', 'clients', 'enabled', 'mortgages', 'dreamed', 'gained', 'enjoy', 'graduating', '1990', 'screenings', 'soonerthan', 'usually', 'morgan', 'carrolls', 'sue', 'nurses', 'putting', 'shady', 'hpv', 'retardation', 'picture', '115', 'chunk', 'soft', 'nonpartisan', 'analysis', 'gianna', 'jessen', 'argument', 'credibly', 'undertaxed', 'competitors', 'potential', '168', 'hear', 'lambeau', 'excluded', 'rubios', '2002', 'requested', 'dorms', 'dorm', 'notified', 'poland', 'czech', 'cancellation', 'missile', 'minute', 'midnight', 'threatening', 'lay', 'automobile', 'markkirk', 'arrest', 'andwas', 'stilltooracist', 'deportation', 'swaps', 'allencast', 'votefor', '2003bushtax', 'defunded', 'german', 'disarmed', '1930s', 'nazis', 'evil', 'intentions', 'relatively', 'resistance', 'inexpensive', 'congressadjourned', 'nye', 'needed', 'toimplement', 'fort', 'metroplex', 'trey', 'radel', 'qualify', 'bus', 'occupies', 'manufacture', 'sale', 'possession', 'handguns', 'sullivan', 'opponents', 'purchases', 'productivity', 'risen', 'flat', 'uaw', 'gerald', 'ford', 'poles', 'bulgarians', 'romanians', 'werent', 'contributing', 'economically', 'brits', 'phaseout', 'summer', '2017', 'prescribed', 'globe', 'developed', 'solicitor', 'elaborate', 'ties', 'drastic', '882', '07', 'sworn', 'marcy', 'kaptur', 'dennis', 'kucinich', 'extensive', 'seized', 'firearms', 'congresswoman', 'ros', 'lehtinen', 'fixes', 'pet', 'commit', 'lieutenant', 'revolution', 'color', 'comparative', 'effectiveness', 'ration', 'potentially', '224', 'qataris', 'sewers', 'heck', 'klein', 'gouging', 'bonds', 'pro', 'founders', 'motto', 'stokes', 'hook', 'explained', 'lack', '1969', 'affect', '155', 'wealthy', 'indexed', 'original', 'space', 'shuttle', 'terminated', 'launch', 'humans', 'canadians', 'trusts', 'inspect', 'initial', 'diversity', 'citys', 'boyfriends', 'sept', 'synagogues', 'forbidden', 'award', 'megan', 'sampson', 'lloyd', 'doggett', 'merger', 'perimeter', 'gsu', '54', 'applicant', 'credentials', '1one', 'panhandling', 'noisy', 'demonstrations', 'events', 'disruptive', 'crowds', 'booed', 'brian', 'kemp', 'immigrant', 'worsen', 'options', 'vulnerable', 'rivals', 'indefinitely', 'wishes', 'crude', 'output', 'barrels', 'actual', 'deportations', 'interior', 'australias', 'stylists', 'undergo', 'scrutiny', 'foreclosure', 'consultants', 'wrestling', 'favorite', 'sport', '761', 'yearly', '620', 'screen', 'vet', 'entitlement', 'foreclosures', 'add', 'graduate', 'performed', 'economists', 'consistent', 'arising', 'stadiums', 'properties', 'vacant', 'underused', 'representation', 'ex', 'boyfriend', 'friend', 'regular', 'advocates', 'freeze', 'dare', 'rapes', 'robberies', 'assaults', 'proponent', 'selecting', 'embrace', 'mahmoud', 'ahmadinejad', '1994', 'vawa', 'incidents', 'daugherty', 'statesman', 'cuccinellis', 'divisions', 'diverting', 'remodel', 'count', 'pell', 'grants', 'allens', 'candidacy', 'rated', 'michigans', 'hundred', 'manipulated', 'obamashealth', 'takeover', 'charging', 'toll', 'motorists', 'ga', 'slated', 'starr', 'accountability', '226', 'measured', 'privatizing', 'intolerable', 'progressive', 'substitute', 'forcommunist', 'georgians', 'poors', 'repay', 'proved', '131', 'origin', 'labeling', 'pauls', 'cdc', 'gainrevenue', 'intervened', 'zika', 'seventh', 'finland', 'payback', 'supporters', 'footing', 'webb', 'reliable', 'tripled', 'downsizing', 'pinellas', 'ms', 'latvala', 'lane', 'mopac', 'economist', 'lucky', 'fracking', 'context', 'millionaires', 'gamed', 'kenya', 'syndrome', 'purchased', 'buyback', 'memphis', 'bar', 'offlexible', 'dumped', 'critical', 'paris', 'exclusion', 'insurers', 'hears', 'wont', 'instances', 'disadvantage', 'user', 'ticket', 'todays', 'potent', 'yesteryear', 'beltline', 'intersects', 'marta', 'stations', 'sudden', 'employed', 'forms', 'driver', 'migration', 'estate', 'devastating', 'chairs', 'bracelets', 'identify', 'owner', 'ed', 'alan', 'grayson', 'retention', 'djt', 'dishonest', 'vapor', 'estimates', 'conclude', 'final', 'competitor', 'connecticuts', 'slot', 'machines', 'parties', 'espionage', 'whistleblowers', 'leaked', 'journalists', 'divorce', '143', 'administrative', 'doug', 'mckillips', 'deserve', 'refund', 'cocaine', 'vehicular', 'homicide', 'carpet', 'bomb', 'bogged', 'suggests', 'barrel', 'incarceration', 'holidays', 'physicians', 'graduates', 'throws', 'unprecedented', 'extraordinary', 'step', 'overturning', 'democratically', '630', 'facebook', 'travels', 'diplomacy', 'showhillary', 'peter', 'sheldon', 'whitehouse', 'censor', 'involve', 'criticize', 'inspection', 'inflating', 'tires', 'tune', 'ups', 'legislatures', 'bbq', 'view', 'instance', 'boosted', 'heavens', 'method', 'evaluating', 'questionnaires', 'iraqi', 'suspect', 'robbery', 'msnbc', 'practically', 'doors', 'meetings', 'revelation', 'pressing', 'movement', 'la', 'crosse', 'exit', 'surrounded', 'beating', 'windows', 'rocking', 'extricated', 'crowd', 'lunch', 'assistance', 'daca', 'particularly', 'asian', 'islander', 'dade', 'staggering', 'diana', 'maldonado', 'craigslist', 'commuter', 'recipients', 'atms', 'sidelines', 'outstripping', 'jurisdictions', 'corrupt', 'platinum', 'complete', 'sterilized', 'departments', 'furious', 'unbelievable', 'sounds', 'zombie', 'apocalypse', 'sucked', 'actor', 'dwayne', 'wore', 'shirt', 'stating', 'kneel', 'radio', 'theinsurance', 'negotiate', 'crct', 'expectations', 'sense', 'qualifies', 'subsidized', 'racing', 'emit', 'pollution', 'rutgers', 'montclair', 'stockton', 'rowan', 'paterson', 'hewent', 'mint', 'coin', 'nickel', 'scotts', 'proper', 'prevents', 'simultaneously', 'betty', 'sutton', 'gibbs', 'lied', 'posted', 'counseling', 'voluntary', 'questioned', 'hiring', 'nerve', 'clinic', 'abstinence', 'mcdonnells', 'agenda', 'ku', 'klux', 'klan', 'mocked', 'auditor', '428', 'lunches', 'ineligible', 'reproductive', 'kasichs', '91', 'subpoenaed', 'colleagues', 'timing', 'announcement', 'fully', 'attendance', 'covers', 'civilian', 'cyberattacks', 'kremlin', 'buffalos', 'solarcity', 'andrew', 'cuomo', 'rebate', 'offset', 'borrow', 'teamed', 'unleashes', 'shunned', 'soldiers', 'pipes', 'wood', 'joking', 'sizes', 'lyin', 'histv', 'sends', 'concealed', 'handgun', '103', 'aggie', 'placement', 'aside', 'urban', 'renewal', 'calculated', 'citywide', '1973', 'granted', 'preborn', 'gays', 'standardized', 'lend', 'credence', 'score', 'signing', 'tourist', 'visa', 'disappearing', 'qaeda', 'camps', 'cartels', 'romneycare', 'spiraling', 'hiking', 'squeezing', 'seneca', 'jones', 'timber', 'aiming', 'logging', 'allay', 'fears', 'mills', 'shifted', 'asks', 'retooled', 'avid', 'outward', 'delegates', 'hoped', 'sharing', 'unwanted', 'advances', 'deputy', '435', 'fromsolantic', 'emerged', 'expectancy', 'orientation', 'alice', 'rivlin', 'stimulate', 'radical', 'jihadi', 'experiencing', 'represents', 'curbing', 'agreements', 'painful', 'practicing', 'satellites', 'relates', 'initiated', 'aerial', 'wolves', 'wildlife', 'phrase', 'error', 'flagged', 'endured', 'contribute', 'lifetimes', 'daiquiri', 'shops', 'excludes', 'welcome', 'outsourcing', 'themto', 'ct', 'timetable', 'withdraw', 'conference', 'mainstream', 'european', 'room', 'leaves', 'appear', 'bombing', 'challenged', 'obstruction', 'strongest', 'll', 'untagged', 'alligator', 'lobbying', 'empirical', 'overhead', 'introduced', 'sponsor', 'pardon', 'decorated', 'returning', 'bb', 'martialed', 'philippine', 'insurgents', 'teamsters', 'slam', 'dunk', 'craig', 'huey', 'mill', 'conviction', 'station', 'abide', 'reining', 'diverse', 'ogden', 'hurting', 'crafted', 'robin', 'hood', 'skyrocket', 'freedoms', 'prayed', 'manual', 'mcdonnellsbudget', 'plantakesmoney', 'pave', 'geared', 'transfer', 'pasch', 'wedlock', 'reality', 'everyone', 'deserves', 'vowed', 'heart', 'saidsonia', 'excellent', 'fifth', 'neighboring', 'michigan', 'succeed', 'connected', 'allegation', 'badger', 'ancestors', 'hopes', 'dream', '4th', 'boys', 'resigned', 'shred', 'executions', '40s', '50s', '60s', 'establishing', 'dr', 'analysts', 'listed', 'threats', 'discharged', 'implemented', 'skills', 'such', 'translators', 'engineers', 'speeches', 'fetched', 'occurred', 'wife', 'reserves', 'shape', 'responding', 'event', 'kansas', 'sakineh', 'mohammadi', 'ashtiani', 'sentenced', 'stoning', 'impeachment', 'investigated', 'shanghai', 'london', 'promotional', 'stress', 'balls', 'tiller', 'merely', 'reporting', 'prolifers', 'preparing', 'package', '112th', 'deductions', 'spouses', 'roadway', 'safely', 'kim', 'simac', 'subsidies', '111th', 'congresses', 'competitiveness', 'teams', 'ballparks', '1983', 'arkansas', 'improve', 'gaspard', 'hand', 'bertha', 'heads', '277', 'potato', 'pest', 'recklessly', 'downgrade', 'fisher', 'hawaii', 'throwing', 'saysgov', 'incorrectly', '38th', 'rely', 'payday', 'fit', 'prohibits', 'operate', 'kelodecision', 'adoption', 'couples', 'matt', 'patten', 'kicked', 'guess', 'russo', 'abject', 'heres', 'schiano', 'nobodys', 'addicted', 'handed', 'discretionary', 'galveston', 'privatize', 'keene', 'armored', 'citing', 'pumpkin', 'festival', 'perfect', 'organizations', 'legion', 'consistently', 'tougher', 'criminals', 'designers', 'focused', 'grateful', 'tort', 'buffalo', 'exist', 'massacre', 'actors', 'kenosha', 'casino', 'seminole', 'tribe', 'latinas', 'mosques', 'colleague', 'motion', 'censure', 'systemic', 'wiretaps', 'delay', 'implementing', 'hypocrite', 'criticizing', 'aggressively', 'revokes', 'retains', 'credits', 'differed', 'panels', 'shipping', 'jack', 'kingston', 'nascar', 'fifa', 'pressured', 'budweiser', 'exploration', 'flop', 'ped', '145', 'documented', 'suction', 'entrapment', 'swimming', 'pools', 'spas', 'westlund', 'patridge', 'shetterly', 'lynn', 'lundquist', 'decline', 'fairly', 'agent', 'glen', 'sturtevant', 'smaller', 'mail', 'burying', '033', 'pardons', 'commutations', 'clemencies', '125', 'procedures', 'campus', 'minority', 'gillnets', 'inland', 'devoted', 'hustleshows', 'bribes', 'approving', 'ipads', 'iphones', 'dubious', 'digital', 'restaurants', '1997', 'climatic', 'unit', 'mails', 'debunked', 'pps', 'pers', 'sinks', '50th', 'steadily', 'dropping', 'automotive', 'nusbaum', 'interviewed', 'reporters', 'asia', 'anyway', 'chosen', 'semitic', 'motivation', 'kosher', 'mobil', 'profits', 'producer', 'surpassed', 'pioneer', 'sanger', 'believed', 'quotes', 'maureen', 'dowd', 'column', 'suspicious', 'constituents', 'supermax', 'prisons', 'sets', 'resolving', 'purpose', 'sees', 'indicative', 'trait', 'acts', 'answer', 'terrible', 'richest', 'surround', 'halfway', 'jury', 'travis', 'panasonic', 'relocation', 'brrag', 'citizen', 'shark', 'lifting', 'attacking', 'holding', 'oust', 'houthi', 'rebels', 'yemen', 'stopping', 'imminent', 'homosexuality', 'felony', 'hole', 'entrepreneurs', '3666', 'stephanopoulos', '4608', 'successor', 'republicam', 'hanover', '11023', 'art', 'biography', '114', 'cnn', '2096', 'pundits', 'abc', 'columnist', 'maryland', 'roundtable', 'discussion', '12853', 'danny', 'tarkanian', 'jacky', 'rosen', '12670', 'pants', 'condemning', 'urging', 'markedly', 'absent', '1508', 'sidney', 'blumenthal', 'preventable', 'consulate', 'hide', 'hiked', 'memo', 'outlined', 'veteran', 'harm', 'ratepayers', 'organizers', 'distracted', 'roadways', 'mineral', 'leases', 'solitary', 'determine', '451', '932', 'watt', 'infested', 'linked', 'migrants', 'hurt', 'aide', 'huma', 'abedin', 'brotherhood', 'marine', 'relies', 'shocked', 'asleep', 'renaissance', 'addition', 'almanac', 'safest', 'complications', 'seek', 'er', 'taxation', 'increment', 'counterfeiting', 'piracy', 'learned', 'spy', 'hacking', 'enrollment', 'doyle', 'burke', 'beds', 'phones', 'apples', 'cook', 'indiana', 'quarters', 'mcmansion', 'connecticut', 'obvious', 'comparison', 'randy', 'hopper', 'fond', 'du', 'lac', 'recalled', 'organized', 'syndicate', 'extorting', 'ganleys', 'fbis', 'observer', 'acquisition', 'marriages', 'towpath', 'erie', 'canal', 'administered', 'autism', 'retract', 'handling', 'woodstock', 'concert', 'museum', 'broader', 'providing', 'contraceptive', 'hobby', 'barrett', 'redevelop', 'menomonee', 'minnesota', 'broadcast', 'terroristsfriends', 'girlfriends', 'stateswere', 'kathleen', 'falk', 'latest', 'ny', 'overcounts', 'compilation', '427', 'items', 'helpless', 'soundly', 'slept', 'bed', 'socialism', 'dictator', 'josef', 'stalin', 'replicate', 'goldman', 'sachs', 'blankfein', 'janice', 'hahn', 'specialists', 'wikipedia', 'planet', 'unequal', 'distribution', 'addictive', 'pam', 'bondi', 'realistic', 'pryor', 'protected', 'populationin', 'workman', 'drunk', 'injuries', 'anymore', 'papers', 'succeeded', 'fortune', 'streetsign', 'complex', 'propositions', 'awarded', 'musical', 'officeholders', 'sanctioned', 'disagreed', 'hardworking', 'virginians', 'tennesseans', 'formal', 'isolated', 'ring', 'opposing', 'homosexual', 'lifeby', 'gogebic', 'apostle', 'lakeshore', 'caves', 'superior', 'refugee', 'soaring', 'insecurity', 'consumes', 'soros', 'bankrolling', 'prescribers', 'oxycodone', 'fixed', '02', 'bankrupting', 'barber', 'missouri', 'wasgovernor', 'tractor', 'fraudulent', 'mcginty', 'alarming', 'undercurrent', 'misinformed', 'published', 'cycle', 'reids', 'trailing', 'ratification', 'treaties', 'aaron', 'bean', '240', 'gloria', 'steinem', 'impersonator', 'nolan', 'showing', 'harmony', 'liberties', 'telecast', 'proceedings', 'dad', 'guzzling', 'dinosaurs', 'audit', 'greatest', 'constant', 'sore', 'infects', 'teenaged', 'shower', 'locker', 'rooms', 'kick', '3c', 'passengers', '1935', 'breast', 'weatherization', 'fits', 'isn', 'withdrawn', 'swiss', 'france', '405', 'juice', 'drinks', 'disproportionately', 'kip', 'kinkel', 'unarmed', 'penalize', 'constrained', 'role', 'firstenergys', 'haiti', 'kyrgyzstan', 'iceland', 'libertarian', 'glarus', 'brewing', 'spotted', 'cow', 'content', 'speakers', 'radicalized', '2020', 'seth', 'magaziner', 'educational', 'foundations', 'commented', 'lists', 'finish', 'hosni', 'mubaraks', 'besides', 'homeowner', 'enjoying', 'democracy', 'oclock', 'promptly', 'scenario', 'partners', 'volunteer', 'abilities', 'wildfires', 'exporter', 'agricultural', 'paula', 'deen', 'reject', 'bureaucracy', 'debo', 'adegbile', 'nominated', 'circuit', 'appeals', 'abruptly', 'pls', 'refer', 'theyll', 'attorneys', 'violated', 'corrupted', 'macys', 'protecting', 'antitrust', 'vietnam', 'pow', 'fashioning', 'inspirational', 'symbol', 'pows', 'empty', 'controlling', 'guarantees', 'austinites', 'matters', 'kidney', 'malaria', 'tuberculosis', 'binge', 'reaching', 'talked', 'angry', 'needless', 'treat', 'pure', 'katy', 'freeway', 'interstate', 'widest', 'lanes', 'frontage', 'moammar', 'gadhafi', 'westchester', 'ample', 'cnbc', 'discredited', 'merrick', 'garland', 'uphold', 'strickland', 'busted', '120', 'onto', 'cashier', 'manager', 'hydrogen', 'sulfide', 'genocide', 'jews', 'germany', 'bicycle', 'tailgating', '56', 'adult', 'comprise', 'boarding', 'airplane', 'buying', 'dynamite', 'ak', 'entered', 'husted', 'cantors', 'steakhouses', 'korean', 'is3', 'taller', 'gulag', 'missiles', 'peace', 'prize', 'winners', 'fat', 'castle', 'braley', 'neighbor', 'chickens', 'stone', 'unturned', 'tighten', 'belts', 'floor', 'solo', 'ingles', 'biennium', 'liquor', 'measurably', 'liberals', 'belongs', 'admits', 'adds', 'persisting', 'succeeding', 'valuable', 'producers', 'link', 'collapse', 'postage', 'utilities', 'deep', 'highways', 'lord', 'knows', 'amtrak', 'baiting', 'liberty', 'cruzs', 'fined', 'slim', 'jims', '69', 'lift', 'proof', 'estonia', 'neglect', 'meth', 'lab', 'arrests', 'herself', 'chet', 'cuccinelli', 'churches', 'scandal', 'gen', 'petraeus', 'questioning', 'soglins', 'intent', 'discourage', 'disagrees', 'relative', 'allegiance', 'relief', 'freeing', 'advocate', 'delegation', 'troubling', 'aspects', 'schumer', 'blanket', 'mandating', 'requesting', 'struck', 'lightning', 'thanfind', 'heatstroke', 'mall', 'location', 'embedded', 'tattoos', 'visible', 'keepsome', 'applicants', 'response', 'falsely', 'fran', 'dewines', 'scratch', 'dinner', 'delicious', 'thanksgiving', 'digits', 'scoring', 'mathematics', 'industrialized', 'royalties', 'foroil', 'sources', 'wrongly', 'conveyed', 'stance', 'infected', 'questionable', 'environmentalists', 'norbert', 'mickey', 'mouse', 'adolf', 'hitler', 'valid', 'signatures', 'knowledge', 'engagement', 'longstanding', 'sidewalks', 'suing', 'neglected', 'maintenance', 'miller', 'anheuser', 'busch', 'exposed', 'layer', 'abortionists', 'amend', '1789', 'stripping', 'definition', 'egypts', 'rex', 'championships', 'afc', 'rifles', 'cia', 'tenet', 'notice', 'skew', 'headed', 'smokers', 'elizabeth', 'mvc', 'marry', 'cousin', 'giuliani', '290', 'structural', 'assumption', 'reinstate', 'elderly', 'stands', 'officially', 'usage', 'explicit', 'myriad', 'abolishes', 'lamar', 'smith', 'lgbt', '73', 'persists', 'negating', 'warners', 'addressing', 'derivatives', 'cracking', 'improving', 'oversight', 'affects', 'nevadas', 'admin', 'gutted', 'projchildsafe', 'kits', 'transmitted', 'sneeze', 'bishops', '1919', 'garlandvoted', 'fundamental', 'break', '1904', 'victor', 'shares', '46', 'creationism', 'evolution', 'telecom', 'probe', 'recommendations', '378', 'websites', 'addresses', 'achieving', 'smart', 'objection', 'alfred', 'brissette', 'component', 'adam', 'putnam', 'limbaugh', 'thanthe', 'oklahomas', 'lowering', 'severance', 'sky', 'airstrikes', 'missions', 'mississippi', 'suddenly', 'ann', 'kuster', 'blank', 'videotape', 'plane', 'ransom', 'hostages', 'rocky', 'mountain', 'trouble', 'merkley', 'unmitigated', 'production', 'dependence', 'rises', 'abillion', 'dollarsout', 'copenhagen', 'birds', 'uploaded', 'moon', 'epidemic', 'laundered', 'laureate', 'honorary', 'distortedwhat', 'rally', 'instruction', '83', 'nationally', 'apartment', 'buildings', 'rents', 'orleans', 'comprised', 'ismore', 'appropriated', 'equality', 'transcripts', 'oral', 'arguments', 'antonin', 'scalia', 'jokes', 'laughs', '47th', '43rd', 'page', 'threshold', 'somewhere', 'dime', 'hillaryclintons', 'bombings', 'etc', 'remain', 'quietly', 'celilo', 'groped', 'tuitions', 'cancel', 'ate', 'packs', 'sugar', 'joni', 'ernst', 'file', 'inheritance', 'limited', '269', 'quipped', 'envision', 'reneging', 'schip', 'aren', 'cairo', 'apologize', 'younger', 'hasn', 'harwood', '5802', 'boehner', '6153', '6515', 'hopeful', 'wasteful', 'bulbs', 'crossroads', 'gps', 'advocacy', '385', 'westerville', '10932', 'exam', '5076', 'editorial', '12189', 'starbucks', 'heckler', 'activist', 'mom', 'confrontation', '945', 'magnetic', 'levitation', 'las', 'vegas', 'navigators', 'maneuver', 'processes', 'filing', 'example', 'saysjosh', 'mandels', 'suggest', 'winds', 'ugly', 'direction', 'hating', 'salem', 'negotiating', 'becomes', 'greg', 'converted', 'prosecute', 'predators', 'cyber', 'harass', 'assisting', 'cordrays', 'nomination', 'marks', 'beaches', 'ruins', 'reign', 'remained', 'stretch', 'classify', 'arlen', 'specter', 'peak', 'incandescent', 'bulb', 'withdrawal', 'socially', 'mobile', 'juarez', 'blocks', 'shouldn', 'swaziland', 'infection', '729', 'isner', 'mahut', 'match', 'sequestration', '49th', 'neversaid', 'boots', 'opinions', 'grandmother', 'adding', 'liechtenstein', 'luxembourg', 'grabbed', 'municipalities', 'sunday', 'brewpubs', 'growlers', 'customers', 'est', 'bi', 'pink', 'pony', 'cited', 'violation', 'jolly', 'dealing', 'theft', 'burglary', 'prostitution', 'decriminalized', 'organizer', 'regressive', '112', 'utter', '64', 'eventually', 'sittons', '650', 'megyn', 'specifying', 'afforded', 'rezko', 'skips', 'casting', 'residence', 'determining', '5th', 'portends', 'horrific', 'situations', 'calendar', 'unauthorized', 'tribuneseditorial', 'comptroller', 'leslie', 'munger', 'backing', 'voice', 'assessment', 'fourteen', 'kiss', 'goodbye', 'toothache', 'frishe', 'accountant', 'justify', 'accuses', 'underfunding', 'robs', 'narrowed', '1915', 'rushing', 'vacation', 'arm', 'encouraged', 'fleeing', 'shuts', 'accrue', 'gattaca', 'ripped', 'equity', 'grandparents', 'immigrated', 'toward', 'printed', 'entirety', 'resulting', 'pile', 'weigh', '136', 'shrinking', '292', 'hunt', 'mavericks', 'inaccuracies', 'unincorporated', 'automated', '370', 'exclude', 'exemption', 'studying', 'reaffirmed', 'intention', 'preconditions', 'tamper', 'thumbprint', 'embossed', 'hologram', 'obesity', 'nonstop', 'flights', 'warmer', 'chaired', '1900', 'anthony', 'afford', 'sox', 'playoffs', 'widely', 'overlooked', 'comments', 'concussion', 'recover', 'endorsement', 'pop', 'aaa', 'congested', 'boston', 'offering', 'skyline', 'dominated', 'cranes', 'notices', 'indicating', 'underfunded', 'obligations', 'meanwhile', 'reference', 'almighty', 'authorizes', '450', 'crc', 'bag', 'dewhursts', 'photos', 'prove', 'denver', 'ridership', 'gambling', 'pack', 'smoker', 'quits', 'stephen', 'fincher', 'farmer', 'disney', 'susan', 'happ', 'deferred', 'prosecution', 'strict', 'entrepreneurship', 'assists', 'cellular', 'mow', 'grass', 'blueprint', 'prosperity', '1961', 'whats', 'deduction', 'wherever', 'boomers', 'unsuccessfully', '466', 'discussed', 'theyd', 'allocation', 'corner', 'preach', 'resolution', 'restore', 'repealed', 'males', 'greenlight', 'involves', 'afghan', 'shrank', 'throw', 'shoes', 'ifmercury', 'cfl', 'pattern', 'ducking', 'saysted', 'nude', 'melania', 'rug', 'inauguration', 'freshmen', 'thwart', 'measures', 'battleground', 'item', 'predecessor', 'sweater', 'kohls', '78702', 'gentrified', 'introducing', 'rudy', 'omitted', 'september', 'meal', 'surface', 'holy', 'communion', 'philando', 'castile', 'fatal', 'incident', 'turnpike', 'rode', 'serial', 'polluter', 'violations', 'polluting', 'sort', 'snowstorm', 'environment', 'scouts', 'usas', 'curriculum', 'promotes', 'friedan', 'naral', 'icons', 'emulate', 'upper', 'evading', 'disabled', 'reporter', 'perriello', 'aired', 'inspector', 'wells', 'threw', 'barbecue', 'dine', 'israeli', 'prime', 'benjamin', 'netanyahu', 'filling', 'bit', 'sayssenate', 'tradition', 'vacancies', 'fewest', 'atheists', 'hindus', 'buddhists', 'distance', 'suffer', 'nazi', 'imagery', 'describe', 'warmest', 'post', 'editor', 'promote', 'levying', 'reductions', 'lowered', 'bailout', 'sharpton', 'declaring', 'posed', 'monoxide', 'euthanize', 'dogs', 'cats', 'shelters', 'raid', 'fosters', 'destabilize', 'sanford', 'bishop', 'inaccurate', 'aa', 'exists', 'exploit', 'cotton', 'handsomely', 'enrollee', 'hud', 'patently', 'unfair', 'unjust', 'exclusive', 'neighborhood', '535', 'rosemary', 'lehmberg', 'bottles', 'vodka', 'statement', 'brother', 'characteristics', 'mirror', 'earths', 'habitability', 'duckworth', 'staunch', 'fathers', 'efficiency', 'complied', 'quickly', 'causingclimate', 'intergovernmental', 'pulled', 'thin', 'discretion', 'pa', 'bernies', 'recusing', 'shariah', 'dearborn', 'mich', 'safe', 'prolife', 'cvs', 'write', 'protects', 'ship', 'rotc', 'array', 'stakes', 'nsa', 'specific', 'fisa', 'amniocentesis', 'superpower', 'poses', 'sole', 'earner', 'ufos', 'zephyr', 'teachout', 'bosnia', 'flowers', 'hampshires', 'expressly', 'authorized', 'alabama', 'warrantless', 'wiretapping', 'charter', 'roll', 'amendments', 'switching', 'mequon', 'disparity', 'erupted', 'musharraf', 'researchers', '133', 'republicansenators', 'theislamic', 'mentions', 'prosecuting', 'style', 'converting', 'participants', 'sustained', 'confidence', 'competence', 'interlink', 'rank', '44th', '2nd', 'rigged', 'cop', 'surprised', '137', 'flows', 'flow', 'speak', 'cooling', 'rebuilt', 'interchange', 'declare', 'checked', 'presence', 'gorillas', 'concept', '170', 'participate', 'activities', 'worlds', 'crossed', 'rewards', 'au', 'pair', 'seafood', 'processors', 'assertions', 'heterosexual', 'shattered', 'centrifuges', 'bounty', 'severed', 'foreleg', 'sewerage', 'solid', '2040', 'guatemala', 'automatically', 'jailed', 'travelers', 'arriving', 'tailpipe', 'hundredths', 'fahrenheit', '2050', 'thurmond', 'authored', 'communists', 'proposes', '315', 'finding', 'structure', 'drives', 'softening', 'untrained', 'sellwood', 'thoroughly', 'oregonian', '05', 'straus', 'acknowledged', 'tireless', 'premier', 'provider', 'interim', 'instructions', 'limitations', 'lever', 'spay', 'neuter', 'counted', 'gaining', '9th', 'diploma', 'ged', 'engineering', 'wauwatosa', 'pelosis', 'surcharge', 'mistake', 'convert', '401', 'nonproliferation', 'enrichment', 'siemens', 'skilled', 'arts', 'delaware', 'waterfront', 'buses', 'wifes', '30th', 'creeping', 'commitments', 'globally', 'youth', 'graduated', 'feasting', 'wild', 'hogs', 'rasmussen', 'linn', 'okays', 'disposing', 'unclaimed', 'pound', 'fla', 'kiters', 'locking', 'clearly', 'mvp', 'slowest', 'cuban', 'exile', '81', 'santarsiero', 'pas', 'supposedly', 'partisan', 'heroics', 'jessica', 'lynch', 'footprint', 'nonexistent', 'politifact', 'lies', 'untruthful', 'politifacts', 'en', 'spread', 'ideology', 'lifted', 'numerous', 'weaken', 'wheelchairs', 'halve', 'graders', 'loving', 'attracted', 'rd', '11th', 'establishment', 'chafee', 'enables', 'amputee', 'hed', 'filed', 'relying', 'pawn', 'shop', 'cashing', 'finances', 'saysdonald', 'inconvenience', 'talks', 'shooter', 'discharging', 'fervently', 'freed', 'slaves', 'jungles', 'assassination', 'semi', 'pistol', 'herman', 'cain', '82nd', 'ouzinkie', 'nearly100', 'producing', 'surtax', 'businesspeople', 'thought', 'backwards', 'path', 'renewable', 'decreasing', 'window', 'quorum', 'flunked', 'farouk', 'isthe', 'wholly', 'liability', 'tellers', 'kickbacks', 'directing', 'deposits', 'risky', 'arguing', 'exceptions', 'dug', 'success', 'distort', 'airwaves', 'idaho', 'marketplace', 'trooper', 'shoveled', 'troubled', '325', 'toxic', 'overdosed', 'katie', 'regulated', 'resident', 'engine', 'manufacturer', 'knox', 'expert', 'consumption', 'prevention', 'overdose', 'outnumber', 'vacancyexcept', 'cleans', 'witch', 'trials', 'trapped', 'underperforming', 'thompsons', 'replacing', 'toilets', 'efficient', 'models', 'mismanaged', 'fertilizer', 'exploded', 'inspected', 'stupid', 'teens', 'informal', 'psychiatric', 'snitker', 'ignored', 'languages', 'prosecutorial', 'conflicts', 'repatriate', 'hickok', 'duel', 'legend', 'distant', 'morell', 'testified', 'isisoil', 'fields', 'concerned', 'goods', 'raila', 'odinga', 'uninsurable', 'chambers', 'exemptions', 'headquarter', 'prosper', 'familiar', 'historical', 'hitting', 'harder', 'morning', 'mention', 'durbin', 'pta', 'golfed', '106', 'fundraisers', 'violators', 'lawmaking', '144', '181', 'volcano', 'exploding', 'dwight', 'statistic', 'ofsupporting', 'barr', 'roof', 'rubber', 'investigations', 'damages', 'pockets', 'despise', 'japan', 'warned', 'foolproof', 'verifying', 'modernizing', 'oddest', 'hillarycare', 'soy', 'nico', 'estatal', 'quin', 'es', 'hombre', 'negocios', 'administrator', 'olympics', 'analyzed', 'neutral', 'casualties', 'cambodia', 'ralph', '733', 'celebrate', 'pray', 'bench', 'preference', 'gallego', 'wavered', 'shelter', 'proudly', 'features', 'monsanto', 'syngenta', 'receives', 'biotech', 'mixed', 'spotty', 'sufficient', 'scholarship', 'thurbert', 'baker', 'viewers', 'howell', 'allied', 'bathrooms', 'stafford', 'ethical', 'cloud', 'installed', 'chad', 'causey', 'milken', 'institute', 'irrefutable', 'govern', 'embarked', 'attempt', 'theaffordable', 'actalters', 'sensible', 'centered', 'patents', 'critically', 'achieved', 'invited', 'tanked', 'andso', '685', 'blackberry', 'miracle', 'refinanced', 'custody', 'guest', 'assure', 'censored', 'muzzled', 'leg', 'fence', 'obsolete', 'adequately', 'transparency', 'rabid', 'animals', 'strains', 'rabies', 'serums', '223', 'inflammatory', 'newsletters', 'trends', 'overhauled', '45th', 'weird', '2019', 'floridian', 'absentee', 'henceforth', 'incarcerated', 'desks', 'resource', 'julie', 'lassa', 'hunters', 'habitat', 'poachers', 'mubarak', 'autocrats', 'establishes', 'advisory', 'dictate', 'invasive', 'species', 'ballast', 'wizard', 'oz', 'movie', 'theaters', 'designate', 'sneaky', 'unsigned', 'blame', 'premature', 'husband', 'resigning', 'meaningful', 'invent', 'prefer', 'zombies', 'delta', 'rigorous', 'offenses', 'martial', 'waving', 'magic', 'wand', 'unfairness', 'campaigning', 'daines', 'mont', 'staffer', 'ottumwa', 'heartland', 'bilingual', 'buono', '154', '107', 'ignores', 'wayne', 'foster', 'lbj', 'donna', 'shalala', 'doses', 'smallpox', 'vaccinate', 'nasa', 'outreach', 'compromise', 'millennials', 'prostate', 'surviving', 'cured', 'mutual', 'propose', 'deprive', 'neighbors', 'bernardino', 'shooters', 'opioids', 'portugals', 'educator', 'checking', 'aleading', 'spells', 'minnesotas', 'governorship', 'affiliation', '420', 'switched', 'killers', 'abusing', 'regime', 'persecutes', 'granting', 'possibly', 'task', 'benchmarks', 'gao', 'fulfilled', 'isil', 'reimbursed', 'emember', 'cayman', 'trafficked', 'gemma', 'described', 'felon', 'smear', 'endorses', 'mcallen', 'switzerland', 'netherlands', 'exxonmobil', '156', 'acting', 'consultation', 'buckyballs', 'arent', 'raked', 'licensing', 'reps', 'barrow', 'spree', 'turkeys', 'pounds', '30s', 'weighed', 'mega', 'heavy', 'boot', 'manufactured', 'bogus', 'ham', 'sandwich', 'slice', 'bread', 'usda', 'slices', 'spring', 'goliad', 'memory', 'layered', 'fencing', 'riders', 'romanticized', 'leander', 'airplanes', 'outer', 'continental', 'shelf', 'demanded', 'pastors', 'sermons', 'falling', 'ali', 'khamenei', 'oversee', 'accusing', 'greer', 'takers', 'makers', 'capitals', 'browns', 'jasper', 'try', 'untoward', 'obtained', 'virtue', 'guardians', 'regardless', 'bars', 'firefighting', 'coats', '731', 'federalism', 'extracurricular', 'panthers', 'trial', 'torturing', 'moderator', 'pathological', 'categorize', 'gambler', 'defeating', 'pallone', '376', 'top25', 'prioritize', 'wiped', 'inspections', 'eggs', 'retail', 'stores', 'lapierre', 'appropriate', 'macginnitie', 'hadnt', 'established', 'prominent', 'fascist', 'faced', 'bunch', 'dialysis', 'chemotherapy'])\n"
     ]
    }
   ],
   "source": [
    "print(count_vect.vocabulary_.keys())"
   ]
  },
  {
   "cell_type": "code",
   "execution_count": null,
   "metadata": {
    "collapsed": true
   },
   "outputs": [],
   "source": []
  }
 ],
 "metadata": {
  "kernelspec": {
   "display_name": "Python 3",
   "language": "python",
   "name": "python3"
  },
  "language_info": {
   "codemirror_mode": {
    "name": "ipython",
    "version": 3
   },
   "file_extension": ".py",
   "mimetype": "text/x-python",
   "name": "python",
   "nbconvert_exporter": "python",
   "pygments_lexer": "ipython3",
   "version": "3.6.3"
  }
 },
 "nbformat": 4,
 "nbformat_minor": 2
}
