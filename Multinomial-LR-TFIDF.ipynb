{
 "cells": [
  {
   "cell_type": "code",
   "execution_count": 89,
   "metadata": {
    "collapsed": true
   },
   "outputs": [],
   "source": [
    "import pandas as pd\n",
    "from sklearn.linear_model import LogisticRegression\n",
    "from sklearn.feature_extraction.text import TfidfVectorizer\n",
    "from sklearn.metrics import accuracy_score\n",
    "import numpy as np\n",
    "from sklearn import decomposition\n",
    "from collections import OrderedDict"
   ]
  },
  {
   "cell_type": "code",
   "execution_count": 4,
   "metadata": {},
   "outputs": [
    {
     "data": {
      "text/plain": [
       "(10240, 16)"
      ]
     },
     "execution_count": 4,
     "metadata": {},
     "output_type": "execute_result"
    }
   ],
   "source": [
    "df_liar_sentiment = pd.read_csv(\"sentiment_train.csv\", encoding=\"utf8\", sep=\",\")\n",
    "\n",
    "df_liar_sentiment.shape"
   ]
  },
  {
   "cell_type": "code",
   "execution_count": 5,
   "metadata": {
    "collapsed": true
   },
   "outputs": [],
   "source": [
    "# scoring the different truthvalues \n",
    "truthlabels ={\"false\":0, \"barely-true\":1,\"half-true\":2,\"mostly-true\":3,\"true\":4, \"pants-fire\":5}\n",
    "\n",
    "# classification formula for political background\n",
    "def classify_truth(text):\n",
    "    if text not in truthlabels.keys(): \n",
    "        return -1\n",
    "    else:\n",
    "        return truthlabels[text]\n",
    "\n",
    "# add this new class of politic scores\n",
    "df_liar_sentiment[\"truth-score\"] = df_liar_sentiment[\"truth-value\"].apply(classify_truth) "
   ]
  },
  {
   "cell_type": "code",
   "execution_count": 6,
   "metadata": {},
   "outputs": [
    {
     "name": "stdout",
     "output_type": "stream",
     "text": [
      "{'republican': 4497, 'democrat': 3336, 'none': 1744, 'organization': 219, 'independent': 147, 'columnist': 35, 'activist': 39, 'talk-show-host': 26, 'libertarian': 40, 'newsmaker': 56, 'journalist': 38, 'labor-leader': 11, 'state-official': 20, 'business-leader': 9, 'education-official': 2, 'tea-party-member': 10, nan: 2, 'green': 3, 'liberal-party-canada': 1, 'government-body': 1, 'Moderate': 1, 'democratic-farmer-labor': 1, 'ocean-state-tea-party-action': 1, 'constitution-party': 1}\n"
     ]
    }
   ],
   "source": [
    "# let's see how many political preferences there are\n",
    "politics = dict()\n",
    "for line in df_liar_sentiment[\"politics\"]:\n",
    "    if line not in politics.keys():\n",
    "        politics[line] = 1\n",
    "    else:\n",
    "        politics[line] +=1\n",
    "print(politics)"
   ]
  },
  {
   "cell_type": "code",
   "execution_count": 7,
   "metadata": {
    "collapsed": true
   },
   "outputs": [],
   "source": [
    "# we'll only focus on the 3 most occuring political preferences\n",
    "politics = dict({\"republican\": 0, \"democrat\" : 1, \"none\" : 2})\n",
    "\n",
    "# classification formula for political background\n",
    "def classify_politics(text):\n",
    "    if text not in politics.keys(): \n",
    "        return -1\n",
    "    else:\n",
    "        return politics[text]\n",
    "\n",
    "# add this new class of politic scores\n",
    "df_liar_sentiment[\"political-score\"] = df_liar_sentiment[\"politics\"].apply(classify_politics) "
   ]
  },
  {
   "cell_type": "code",
   "execution_count": 9,
   "metadata": {},
   "outputs": [
    {
     "name": "stdout",
     "output_type": "stream",
     "text": [
      "(9577, 18)\n"
     ]
    },
    {
     "data": {
      "text/html": [
       "<div>\n",
       "<style>\n",
       "    .dataframe thead tr:only-child th {\n",
       "        text-align: right;\n",
       "    }\n",
       "\n",
       "    .dataframe thead th {\n",
       "        text-align: left;\n",
       "    }\n",
       "\n",
       "    .dataframe tbody tr th {\n",
       "        vertical-align: top;\n",
       "    }\n",
       "</style>\n",
       "<table border=\"1\" class=\"dataframe\">\n",
       "  <thead>\n",
       "    <tr style=\"text-align: right;\">\n",
       "      <th></th>\n",
       "      <th>id</th>\n",
       "      <th>truth-value</th>\n",
       "      <th>text</th>\n",
       "      <th>topic</th>\n",
       "      <th>name</th>\n",
       "      <th>job</th>\n",
       "      <th>state</th>\n",
       "      <th>politics</th>\n",
       "      <th>count1</th>\n",
       "      <th>count2</th>\n",
       "      <th>count3</th>\n",
       "      <th>count4</th>\n",
       "      <th>count5</th>\n",
       "      <th>context</th>\n",
       "      <th>pos-sentiment</th>\n",
       "      <th>neg-sentiment</th>\n",
       "      <th>truth-score</th>\n",
       "      <th>political-score</th>\n",
       "    </tr>\n",
       "  </thead>\n",
       "  <tbody>\n",
       "    <tr>\n",
       "      <th>0</th>\n",
       "      <td>2635.json</td>\n",
       "      <td>false</td>\n",
       "      <td>Says the Annies List political group supports ...</td>\n",
       "      <td>abortion</td>\n",
       "      <td>dwayne-bohac</td>\n",
       "      <td>State representative</td>\n",
       "      <td>Texas</td>\n",
       "      <td>republican</td>\n",
       "      <td>0.0</td>\n",
       "      <td>1.0</td>\n",
       "      <td>0.0</td>\n",
       "      <td>0.0</td>\n",
       "      <td>0.0</td>\n",
       "      <td>a mailer</td>\n",
       "      <td>0.007972</td>\n",
       "      <td>0.012908</td>\n",
       "      <td>0</td>\n",
       "      <td>0</td>\n",
       "    </tr>\n",
       "  </tbody>\n",
       "</table>\n",
       "</div>"
      ],
      "text/plain": [
       "          id truth-value                                               text  \\\n",
       "0  2635.json       false  Says the Annies List political group supports ...   \n",
       "\n",
       "      topic          name                   job  state    politics  count1  \\\n",
       "0  abortion  dwayne-bohac  State representative  Texas  republican     0.0   \n",
       "\n",
       "   count2  count3  count4  count5   context  pos-sentiment  neg-sentiment  \\\n",
       "0     1.0     0.0     0.0     0.0  a mailer       0.007972       0.012908   \n",
       "\n",
       "   truth-score  political-score  \n",
       "0            0                0  "
      ]
     },
     "execution_count": 9,
     "metadata": {},
     "output_type": "execute_result"
    }
   ],
   "source": [
    "# filtering out the statement with a truth-score or a political preference that we don't like\n",
    "df_reduced_sent1 = df_liar_sentiment[df_liar_sentiment[\"truth-score\"] != -1]\n",
    "df_reduced_sent2 = df_reduced_sent1[df_reduced_sent1[\"political-score\"] != -1]\n",
    "print(df_reduced_sent2.shape)\n",
    "df_reduced_sent2.head(1)"
   ]
  },
  {
   "cell_type": "code",
   "execution_count": 10,
   "metadata": {
    "scrolled": true
   },
   "outputs": [
    {
     "data": {
      "text/html": [
       "<div>\n",
       "<style>\n",
       "    .dataframe thead tr:only-child th {\n",
       "        text-align: right;\n",
       "    }\n",
       "\n",
       "    .dataframe thead th {\n",
       "        text-align: left;\n",
       "    }\n",
       "\n",
       "    .dataframe tbody tr th {\n",
       "        vertical-align: top;\n",
       "    }\n",
       "</style>\n",
       "<table border=\"1\" class=\"dataframe\">\n",
       "  <thead>\n",
       "    <tr style=\"text-align: right;\">\n",
       "      <th></th>\n",
       "      <th>truth-value</th>\n",
       "      <th>text</th>\n",
       "      <th>topic</th>\n",
       "      <th>name</th>\n",
       "      <th>job</th>\n",
       "      <th>state</th>\n",
       "      <th>politics</th>\n",
       "      <th>context</th>\n",
       "      <th>pos-sentiment</th>\n",
       "      <th>neg-sentiment</th>\n",
       "      <th>truth-score</th>\n",
       "      <th>political-score</th>\n",
       "    </tr>\n",
       "  </thead>\n",
       "  <tbody>\n",
       "    <tr>\n",
       "      <th>0</th>\n",
       "      <td>false</td>\n",
       "      <td>Says the Annies List political group supports ...</td>\n",
       "      <td>abortion</td>\n",
       "      <td>dwayne-bohac</td>\n",
       "      <td>State representative</td>\n",
       "      <td>Texas</td>\n",
       "      <td>republican</td>\n",
       "      <td>a mailer</td>\n",
       "      <td>0.007972</td>\n",
       "      <td>0.012908</td>\n",
       "      <td>0</td>\n",
       "      <td>0</td>\n",
       "    </tr>\n",
       "  </tbody>\n",
       "</table>\n",
       "</div>"
      ],
      "text/plain": [
       "  truth-value                                               text     topic  \\\n",
       "0       false  Says the Annies List political group supports ...  abortion   \n",
       "\n",
       "           name                   job  state    politics   context  \\\n",
       "0  dwayne-bohac  State representative  Texas  republican  a mailer   \n",
       "\n",
       "   pos-sentiment  neg-sentiment  truth-score  political-score  \n",
       "0       0.007972       0.012908            0                0  "
      ]
     },
     "execution_count": 10,
     "metadata": {},
     "output_type": "execute_result"
    }
   ],
   "source": [
    "# reducing the dataframe to only the important/most interesting data\n",
    "df_reduced_sent = df_reduced_sent2.drop(['id', 'count1', 'count2', 'count3', 'count4', 'count5'], axis=1)  \n",
    "df_reduced_sent.head(1)"
   ]
  },
  {
   "cell_type": "code",
   "execution_count": 33,
   "metadata": {
    "collapsed": true
   },
   "outputs": [],
   "source": [
    "# create df of the test data\n",
    "df_test_sent = pd.read_csv(\"sentiment_test.csv\", encoding=\"utf8\", sep=\",\", names=[\"id\", \"truth-value\", \n",
    "                                                                     \"text\", \"topic\", \"name\", \"job\", \n",
    "                                                                     \"state\", \"politics\", \"count1\", \"count2\", \n",
    "                                                                     \"count3\", \"count4\", \"count5\", \"context\", \n",
    "                                                                                        \"pos-sentiment\", \"neg-sentiment\"])\n",
    "df_test_sent[\"truth-score\"] = df_test_sent[\"truth-value\"].apply(classify_truth)\n",
    "df_test_sent[\"political-score\"] = df_test_sent[\"politics\"].apply(classify_politics)\n",
    "\n",
    "df_test_sent_reduced1 = df_test_sent[df_test_sent[\"truth-score\"] != -1]\n",
    "df_test_sent_reduced2 = df_test_sent_reduced1[df_test_sent_reduced1[\"political-score\"] != -1]"
   ]
  },
  {
   "cell_type": "code",
   "execution_count": 35,
   "metadata": {},
   "outputs": [
    {
     "data": {
      "text/html": [
       "<div>\n",
       "<style>\n",
       "    .dataframe thead tr:only-child th {\n",
       "        text-align: right;\n",
       "    }\n",
       "\n",
       "    .dataframe thead th {\n",
       "        text-align: left;\n",
       "    }\n",
       "\n",
       "    .dataframe tbody tr th {\n",
       "        vertical-align: top;\n",
       "    }\n",
       "</style>\n",
       "<table border=\"1\" class=\"dataframe\">\n",
       "  <thead>\n",
       "    <tr style=\"text-align: right;\">\n",
       "      <th></th>\n",
       "      <th>truth-value</th>\n",
       "      <th>text</th>\n",
       "      <th>topic</th>\n",
       "      <th>name</th>\n",
       "      <th>job</th>\n",
       "      <th>state</th>\n",
       "      <th>politics</th>\n",
       "      <th>context</th>\n",
       "      <th>pos-sentiment</th>\n",
       "      <th>neg-sentiment</th>\n",
       "      <th>truth-score</th>\n",
       "      <th>political-score</th>\n",
       "    </tr>\n",
       "  </thead>\n",
       "  <tbody>\n",
       "    <tr>\n",
       "      <th>1</th>\n",
       "      <td>true</td>\n",
       "      <td>Building a wall on the U.S.-Mexico border will...</td>\n",
       "      <td>immigration</td>\n",
       "      <td>rick-perry</td>\n",
       "      <td>Governor</td>\n",
       "      <td>Texas</td>\n",
       "      <td>republican</td>\n",
       "      <td>Radio interview</td>\n",
       "      <td>0.007971938775510204</td>\n",
       "      <td>0.012908163265306121</td>\n",
       "      <td>4</td>\n",
       "      <td>0</td>\n",
       "    </tr>\n",
       "  </tbody>\n",
       "</table>\n",
       "</div>"
      ],
      "text/plain": [
       "  truth-value                                               text        topic  \\\n",
       "1        true  Building a wall on the U.S.-Mexico border will...  immigration   \n",
       "\n",
       "         name       job  state    politics          context  \\\n",
       "1  rick-perry  Governor  Texas  republican  Radio interview   \n",
       "\n",
       "          pos-sentiment         neg-sentiment  truth-score  political-score  \n",
       "1  0.007971938775510204  0.012908163265306121            4                0  "
      ]
     },
     "execution_count": 35,
     "metadata": {},
     "output_type": "execute_result"
    }
   ],
   "source": [
    "df_test_sent_reduced = df_test_sent_reduced2.drop(['id', 'count1', 'count2', 'count3', 'count4', 'count5'], axis=1)  \n",
    "df_test_sent_reduced.head(1)"
   ]
  },
  {
   "cell_type": "markdown",
   "metadata": {},
   "source": [
    "## Regression using TF-IDF Vectorizer"
   ]
  },
  {
   "cell_type": "code",
   "execution_count": 63,
   "metadata": {},
   "outputs": [
    {
     "data": {
      "text/plain": [
       "(9577, 11765)"
      ]
     },
     "execution_count": 63,
     "metadata": {},
     "output_type": "execute_result"
    }
   ],
   "source": [
    "tfidf_vect = TfidfVectorizer()\n",
    "\n",
    "# creating the training vector\n",
    "X_train = tfidf_vect.fit(df_reduced_sent.text)\n",
    "X_train = tfidf_vect.transform(df_reduced_sent.text)\n",
    "y_train = df_reduced_sent[\"truth-score\"].values\n",
    "\n",
    "X_train.shape"
   ]
  },
  {
   "cell_type": "code",
   "execution_count": 64,
   "metadata": {
    "collapsed": true
   },
   "outputs": [],
   "source": [
    "lr = LogisticRegression(solver='lbfgs',multi_class='multinomial')"
   ]
  },
  {
   "cell_type": "code",
   "execution_count": 65,
   "metadata": {},
   "outputs": [
    {
     "name": "stderr",
     "output_type": "stream",
     "text": [
      "/Applications/Anaconda/anaconda3/lib/python3.6/site-packages/sklearn/linear_model/logistic.py:947: ConvergenceWarning: lbfgs failed to converge. Increase the number of iterations.\n",
      "  \"of iterations.\", ConvergenceWarning)\n"
     ]
    },
    {
     "data": {
      "text/plain": [
       "LogisticRegression(C=1.0, class_weight=None, dual=False, fit_intercept=True,\n",
       "                   intercept_scaling=1, l1_ratio=None, max_iter=100,\n",
       "                   multi_class='multinomial', n_jobs=None, penalty='l2',\n",
       "                   random_state=None, solver='lbfgs', tol=0.0001, verbose=0,\n",
       "                   warm_start=False)"
      ]
     },
     "execution_count": 65,
     "metadata": {},
     "output_type": "execute_result"
    }
   ],
   "source": [
    "# Create an instance of Logistic Regression Classifier and fit the data.\n",
    "lr.fit(X_train, y_train)"
   ]
  },
  {
   "cell_type": "code",
   "execution_count": 66,
   "metadata": {},
   "outputs": [
    {
     "data": {
      "text/plain": [
       "(1191, 11765)"
      ]
     },
     "execution_count": 66,
     "metadata": {},
     "output_type": "execute_result"
    }
   ],
   "source": [
    "# transform the test data to the right format, aligning with the training data \n",
    "# (so that it has the size of the vocab of the training set)\n",
    "X_test = tfidf_vect.transform(df_test_sent_reduced.text) \n",
    "y_test = df_test_sent_reduced[\"truth-score\"].values\n",
    "X_test.shape"
   ]
  },
  {
   "cell_type": "code",
   "execution_count": 67,
   "metadata": {},
   "outputs": [
    {
     "name": "stdout",
     "output_type": "stream",
     "text": [
      "0.251049538203\n",
      "299\n"
     ]
    },
    {
     "name": "stderr",
     "output_type": "stream",
     "text": [
      "/Applications/Anaconda/anaconda3/lib/python3.6/site-packages/sklearn/linear_model/logistic.py:947: ConvergenceWarning: lbfgs failed to converge. Increase the number of iterations.\n",
      "  \"of iterations.\", ConvergenceWarning)\n"
     ]
    }
   ],
   "source": [
    "# evaluating the tfidf model\n",
    "lr.fit(X_train, y_train)\n",
    "y_hat_test = lr.predict(X_test)\n",
    "\n",
    "# evaluate using accuracy: proportion of correctly predicted over total\n",
    "print(accuracy_score(y_test, y_hat_test))\n",
    "print(accuracy_score(y_test, y_hat_test, normalize=False))"
   ]
  },
  {
   "cell_type": "code",
   "execution_count": 68,
   "metadata": {
    "collapsed": true
   },
   "outputs": [],
   "source": [
    "# converting train to a matrix\n",
    "new_train = np.empty([9577, 11765])\n",
    "array_X_train = X_train.toarray()\n",
    "\n",
    "for n in range(9577):\n",
    "    new_train[n] = array_X_train[n]\n",
    "\n",
    "# converting test to a matrix\n",
    "new_test = np.empty([1191, 11765])\n",
    "array_X_test = X_test.toarray()\n",
    "\n",
    "for n in range(1191):\n",
    "    new_test[n] = array_X_test[n]"
   ]
  },
  {
   "cell_type": "code",
   "execution_count": 104,
   "metadata": {
    "collapsed": true
   },
   "outputs": [],
   "source": [
    "# 50 dimensions\n",
    "train_SVD50Mat = decomposition.TruncatedSVD(n_components = 50, algorithm = \"arpack\").fit_transform(new_train)\n",
    "test_SVD50Mat = decomposition.TruncatedSVD(n_components = 50, algorithm = \"arpack\").fit_transform(new_test)"
   ]
  },
  {
   "cell_type": "code",
   "execution_count": 105,
   "metadata": {},
   "outputs": [
    {
     "name": "stdout",
     "output_type": "stream",
     "text": [
      "0.218303946264\n",
      "260\n"
     ]
    }
   ],
   "source": [
    "# evaluating 50 dimensions SVD model\n",
    "lr.fit(train_SVD50Mat, y_train)\n",
    "y_hat_test_SVD = lr.predict(test_SVD50Mat)\n",
    "\n",
    "# evaluate using accuracy: proportion of correctly predicted over total\n",
    "print(accuracy_score(y_test, y_hat_test_SVD))\n",
    "print(accuracy_score(y_test, y_hat_test_SVD, normalize=False))"
   ]
  },
  {
   "cell_type": "markdown",
   "metadata": {},
   "source": [
    "## Implementing more features: politics & sentiment"
   ]
  },
  {
   "cell_type": "code",
   "execution_count": 73,
   "metadata": {},
   "outputs": [
    {
     "name": "stdout",
     "output_type": "stream",
     "text": [
      "[[ 0.          0.          0.         ...,  0.00797194  0.01290816  0.        ]\n",
      " [ 0.          0.          0.         ...,  0.01148072  0.0142225   1.        ]\n",
      " [ 0.          0.          0.         ...,  0.00925808  0.01196854  1.        ]\n",
      " ..., \n",
      " [ 0.          0.          0.         ...,  0.00999878  0.01135029  0.        ]\n",
      " [ 0.          0.          0.         ...,  0.00741618  0.01049563  1.        ]\n",
      " [ 0.          0.          0.         ...,  0.01075098  0.00883072  0.        ]]\n"
     ]
    }
   ],
   "source": [
    "# we need to add 3 new columns: one for the positive sentiment score, \n",
    "# one for the negative score and one for the political score. \n",
    "X_train2 = np.empty([9577, 11768])\n",
    "\n",
    "for n in range(9577):\n",
    "    pos = df_reduced_sent[\"pos-sentiment\"].values[n]\n",
    "    neg = df_reduced_sent[\"neg-sentiment\"].values[n]\n",
    "    pol = df_reduced_sent[\"political-score\"].values[n]\n",
    "    X_train2[n] = np.append(new_train[n], [pos, neg, pol])\n",
    "\n",
    "print(X_train2)   "
   ]
  },
  {
   "cell_type": "code",
   "execution_count": 71,
   "metadata": {},
   "outputs": [
    {
     "name": "stdout",
     "output_type": "stream",
     "text": [
      "[[ 0.          0.          0.         ...,  0.00797194  0.01290816  0.        ]\n",
      " [ 0.          0.          0.         ...,  0.01148072  0.0142225   1.        ]\n",
      " [ 0.          0.          0.         ...,  0.00925808  0.01196854  0.        ]\n",
      " ..., \n",
      " [ 0.          0.          0.         ...,  0.00970238  0.01297619  1.        ]\n",
      " [ 0.          0.          0.         ...,  0.00965795  0.00716801  0.        ]\n",
      " [ 0.          0.          0.         ...,  0.00975765  0.01259566  1.        ]]\n"
     ]
    }
   ],
   "source": [
    "# we also need to do this for the test set.\n",
    "X_test2 = np.empty([1191, 11768])\n",
    "\n",
    "for n in range(1191):\n",
    "    pos = df_test_sent_reduced[\"pos-sentiment\"].values[n]\n",
    "    neg = df_test_sent_reduced[\"neg-sentiment\"].values[n]\n",
    "    pol = df_test_sent_reduced[\"political-score\"].values[n]\n",
    "    X_test2[n] = np.append(new_test[n], [pos, neg, pol])\n",
    "\n",
    "print(X_test2) "
   ]
  },
  {
   "cell_type": "code",
   "execution_count": 74,
   "metadata": {},
   "outputs": [
    {
     "name": "stdout",
     "output_type": "stream",
     "text": [
      "0.252728799328\n",
      "301\n"
     ]
    },
    {
     "name": "stderr",
     "output_type": "stream",
     "text": [
      "/Applications/Anaconda/anaconda3/lib/python3.6/site-packages/sklearn/linear_model/logistic.py:947: ConvergenceWarning: lbfgs failed to converge. Increase the number of iterations.\n",
      "  \"of iterations.\", ConvergenceWarning)\n"
     ]
    }
   ],
   "source": [
    "# evaluating the new model\n",
    "lr.fit(X_train2, y_train)\n",
    "y_hat_test = lr.predict(X_test2)\n",
    "\n",
    "# evaluate using accuracy: proportion of correctly predicted over total\n",
    "print(accuracy_score(y_test, y_hat_test))\n",
    "print(accuracy_score(y_test, y_hat_test, normalize=False))"
   ]
  },
  {
   "cell_type": "markdown",
   "metadata": {},
   "source": [
    "### Feature importance"
   ]
  },
  {
   "cell_type": "code",
   "execution_count": 75,
   "metadata": {},
   "outputs": [
    {
     "name": "stdout",
     "output_type": "stream",
     "text": [
      "[[-0.04752767 -0.41708012 -0.0371028  ..., -0.07067812 -0.27048791\n",
      "  -0.15765825]\n",
      " [-0.03456917 -0.2710325   0.17343884 ...,  0.00767341  0.07877831\n",
      "  -0.15604081]\n",
      " [-0.06063145  0.66533971 -0.03342733 ..., -0.02959719  0.09569888\n",
      "  -0.0153626 ]\n",
      " [-0.03132313  1.26773272 -0.0475349  ...,  0.12738169  0.19015447\n",
      "   0.10484853]\n",
      " [-0.01839588 -0.20426712 -0.03560098 ..., -0.03611805  0.02074004\n",
      "   0.00946544]\n",
      " [ 0.1924473  -1.0406927  -0.01977283 ...,  0.00133826 -0.11488379\n",
      "   0.21474769]]\n",
      "(6, 11768)\n"
     ]
    }
   ],
   "source": [
    "print(lr.coef_)\n",
    "print(lr.coef_.shape) #is of size (n_classes, n_features)"
   ]
  },
  {
   "cell_type": "code",
   "execution_count": 87,
   "metadata": {},
   "outputs": [],
   "source": [
    "features = []\n",
    "for key in tfidf_vect.vocabulary_.keys():\n",
    "    features.append(key)\n",
    "\n",
    "features = features + [\"positive-score\", \"negative-score\", \"political-score\"]"
   ]
  },
  {
   "cell_type": "code",
   "execution_count": 90,
   "metadata": {
    "collapsed": true
   },
   "outputs": [],
   "source": [
    "coef_dict_false = dict()\n",
    "start = 0\n",
    "for feature in features: \n",
    "    coef_dict_false[feature] = lr.coef_[0][start]\n",
    "    start += 1 \n",
    "    \n",
    "coef_dict_barely = dict()\n",
    "start = 0\n",
    "for feature in features: \n",
    "    coef_dict_barely[feature] = lr.coef_[1][start]\n",
    "    start += 1 \n",
    "\n",
    "coef_dict_half = dict()\n",
    "start = 0\n",
    "for feature in features: \n",
    "    coef_dict_half[feature] = lr.coef_[2][start]\n",
    "    start += 1 \n",
    "    \n",
    "coef_dict_mostly = dict()\n",
    "start = 0\n",
    "for feature in features: \n",
    "    coef_dict_mostly[feature] = lr.coef_[3][start]\n",
    "    start += 1 \n",
    "    \n",
    "coef_dict_true = dict()\n",
    "start = 0\n",
    "for feature in features: \n",
    "    coef_dict_true[feature] = lr.coef_[4][start]\n",
    "    start += 1 \n",
    "    \n",
    "coef_dict_pantsfire = dict()\n",
    "start = 0\n",
    "for feature in features: \n",
    "    coef_dict_pantsfire[feature] = lr.coef_[5][start]\n",
    "    start += 1 "
   ]
  },
  {
   "cell_type": "code",
   "execution_count": 91,
   "metadata": {},
   "outputs": [
    {
     "data": {
      "text/plain": [
       "[('campbell', 1.5514009372940964),\n",
       " ('reveal', 1.4204777899958099),\n",
       " ('vetoing', 1.3378204600073866),\n",
       " ('160', 1.3333355222925962),\n",
       " ('dioxide', 1.2893928312562191),\n",
       " ('authored', 1.2651959516125),\n",
       " ('karen', 1.2618004549643798),\n",
       " ('fsas', 1.2395506990394158),\n",
       " ('spill', 1.2237527964892905),\n",
       " ('bureaus', 1.223451243322266)]"
      ]
     },
     "execution_count": 91,
     "metadata": {},
     "output_type": "execute_result"
    }
   ],
   "source": [
    "# most important features determining the \"false\" labeled statements \n",
    "ordered_false_coefs = [(k, coef_dict_false[k]) for k in sorted(coef_dict_false, key=coef_dict_false.get, reverse=True)]\n",
    "ordered_false_coefs[0:10]"
   ]
  },
  {
   "cell_type": "code",
   "execution_count": 92,
   "metadata": {},
   "outputs": [
    {
     "data": {
      "text/plain": [
       "[('regularly', 1.4891080350411461),\n",
       " ('safer', 1.2653403063840096),\n",
       " ('identity', 1.2348181864638454),\n",
       " ('topics', 1.2292261122743249),\n",
       " ('offender', 1.2274607718830501),\n",
       " ('package', 1.189296131791274),\n",
       " ('wastes', 1.133781841091499),\n",
       " ('thatcher', 1.1283452001889964),\n",
       " ('lazy', 1.1278096347111295),\n",
       " ('drop', 1.1199054660037748)]"
      ]
     },
     "execution_count": 92,
     "metadata": {},
     "output_type": "execute_result"
    }
   ],
   "source": [
    "# most important features determining the \"barely true\" labeled statements \n",
    "ordered_barely_coefs = [(k, coef_dict_barely[k]) for k in sorted(coef_dict_barely, key=coef_dict_barely.get, reverse=True)]\n",
    "ordered_barely_coefs[0:10]"
   ]
  },
  {
   "cell_type": "code",
   "execution_count": null,
   "metadata": {
    "collapsed": true
   },
   "outputs": [],
   "source": [
    "# etc.."
   ]
  },
  {
   "cell_type": "code",
   "execution_count": 100,
   "metadata": {},
   "outputs": [
    {
     "name": "stdout",
     "output_type": "stream",
     "text": [
      "-0.0706781212921\n",
      "0.00767340941101\n",
      "-0.0295971886476\n",
      "0.127381687191\n",
      "-0.0361180504101\n",
      "0.00133826374786\n"
     ]
    }
   ],
   "source": [
    "# let's see what the importance is of the positive score for all labels. \n",
    "for line in lr.coef_:\n",
    "    print(line[-3])"
   ]
  },
  {
   "cell_type": "code",
   "execution_count": 101,
   "metadata": {},
   "outputs": [
    {
     "name": "stdout",
     "output_type": "stream",
     "text": [
      "-0.27048790946\n",
      "0.0787783058196\n",
      "0.095698883791\n",
      "0.190154473183\n",
      "0.0207400362779\n",
      "-0.114883789612\n"
     ]
    }
   ],
   "source": [
    "# let's see what the importance is of the negative score for all labels. \n",
    "for line in lr.coef_:\n",
    "    print(line[-2])"
   ]
  },
  {
   "cell_type": "code",
   "execution_count": 102,
   "metadata": {},
   "outputs": [
    {
     "name": "stdout",
     "output_type": "stream",
     "text": [
      "-0.157658250775\n",
      "-0.156040812142\n",
      "-0.0153626006286\n",
      "0.104848530231\n",
      "0.00946543984909\n",
      "0.214747693466\n"
     ]
    }
   ],
   "source": [
    "# let's see what the importance is of the political score for all labels. \n",
    "for line in lr.coef_:\n",
    "    print(line[-1])"
   ]
  },
  {
   "cell_type": "markdown",
   "metadata": {},
   "source": [
    "So, we see that the positive score is only of sort of significant value in the labeling of \"mostly true\" (giving coefficient = 0.127). For the negative score this is in labeling of \"mostly true\" too (coefficient = 0.190). And for political score this is in \"mostly true\" (coefficient = 0.105) and \"pants on fire\" (coefficient = 0.215). However, in comparison with the most important features, these scores are still not super significant, since they all score far below 1 still. "
   ]
  },
  {
   "cell_type": "code",
   "execution_count": null,
   "metadata": {
    "collapsed": true
   },
   "outputs": [],
   "source": []
  }
 ],
 "metadata": {
  "kernelspec": {
   "display_name": "Python 3",
   "language": "python",
   "name": "python3"
  },
  "language_info": {
   "codemirror_mode": {
    "name": "ipython",
    "version": 3
   },
   "file_extension": ".py",
   "mimetype": "text/x-python",
   "name": "python",
   "nbconvert_exporter": "python",
   "pygments_lexer": "ipython3",
   "version": "3.6.3"
  }
 },
 "nbformat": 4,
 "nbformat_minor": 2
}
