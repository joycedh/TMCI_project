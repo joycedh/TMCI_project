{
 "cells": [
  {
   "cell_type": "code",
   "execution_count": 6,
   "metadata": {},
   "outputs": [
    {
     "name": "stdout",
     "output_type": "stream",
     "text": [
      "Number of words in trainset: 184014\n",
      "Number of distinct words in trainset: 11916\n",
      "['say', 'the', 'annies', 'list', 'political', 'group', 'support', 'thirdtrimester', 'abortion', 'on', 'demand', 'when', 'did', 'the', 'decline', 'of', 'coal', 'start', 'it', 'started', 'when', 'natural', 'gas', 'took', 'off']\n",
      "['say', 'the', 'annies', 'list', 'political', 'group', 'support', 'thirdtrimester', 'abortion', 'on', 'demand', 'when', 'did', 'decline', 'of', 'coal', 'start', 'it', 'started', 'natural', 'gas', 'took', 'off', 'that', 'to']\n"
     ]
    }
   ],
   "source": [
    "import nltk\n",
    "from nltk.corpus import wordnet as wn\n",
    "import csv\n",
    "import string\n",
    "\n",
    "allwords = []\n",
    "with open(\"train.tsv\", encoding=\"utf8\") as tsvfile:    #open training set\n",
    "    lines = csv.reader(tsvfile, delimiter=\"\\t\")        #convert file to lines\n",
    "    for line in lines:\n",
    "        statement = line[2]                                #get statement from each line \n",
    "        lostrings = statement.split(\" \")                   #convert string to list of strings\n",
    "        new_lostrings = []\n",
    "        for word in lostrings:\n",
    "            word = nltk.WordNetLemmatizer().lemmatize(\n",
    "                word.translate(str.maketrans('', '', string.punctuation)).lower()) # remove punctuation & lemmatize\n",
    "            new_lostrings.append(word)\n",
    "        allwords.extend(new_lostrings)\n",
    "\n",
    "vocab = []                          #initialize a list for all the distint words in the trainset\n",
    "for word in allwords:\n",
    "    if word in vocab:               #do not add word if word is already in vocabulary \n",
    "        continue \n",
    "    else:\n",
    "        vocab.append(word)\n",
    "\n",
    "\n",
    "print(\"Number of words in trainset:\", len(allwords))\n",
    "print(\"Number of distinct words in trainset:\", len(vocab))\n",
    "print(allwords[:25])\n",
    "print(vocab[:25])"
   ]
  },
  {
   "cell_type": "code",
   "execution_count": 17,
   "metadata": {},
   "outputs": [
    {
     "name": "stdout",
     "output_type": "stream",
     "text": [
      "First 3 statements: [['say', 'the', 'annies', 'list', 'political', 'group', 'support', 'thirdtrimester', 'abortion', 'on', 'demand'], ['when', 'did', 'the', 'decline', 'of', 'coal', 'start', 'it', 'started', 'when', 'natural', 'gas', 'took', 'off', 'that', 'started', 'to', 'begin', 'in', 'president', 'george', 'w', 'bush', 'administration'], ['hillary', 'clinton', 'agrees', 'with', 'john', 'mccain', 'by', 'voting', 'to', 'give', 'george', 'bush', 'the', 'benefit', 'of', 'the', 'doubt', 'on', 'iran']]\n",
      "First 3 labels: ['false', 'half-true', 'mostly-true']\n"
     ]
    }
   ],
   "source": [
    "#make a list containing all the statements \n",
    "\n",
    "statements = []\n",
    "labels = []\n",
    "\n",
    "with open(\"train.tsv\", encoding=\"utf8\") as tsvfile:\n",
    "    tsvreader = csv.reader(tsvfile, delimiter=\"\\t\")\n",
    "    for line in tsvreader:\n",
    "        label = line[1]\n",
    "        aline = line[2]\n",
    "        bline = aline.split(\" \")\n",
    "        cline = []\n",
    "        for word in bline:\n",
    "            word = nltk.WordNetLemmatizer().lemmatize(\n",
    "                word.translate(str.maketrans('', '', string.punctuation)).lower()) # remove punctuation & lemmatize\n",
    "            cline.append(word)\n",
    "        labels.append(label)\n",
    "        statements.append(cline)\n",
    "\n",
    "print(\"First 3 statements:\", statements[:3])\n",
    "print(\"First 3 labels:\", labels[:3])"
   ]
  },
  {
   "cell_type": "code",
   "execution_count": 9,
   "metadata": {},
   "outputs": [],
   "source": [
    "import numpy as np \n",
    "rows = countlines\n",
    "columns = len(vocab) \n",
    "matrix = np.zeros((rows, columns))"
   ]
  },
  {
   "cell_type": "code",
   "execution_count": 11,
   "metadata": {},
   "outputs": [
    {
     "name": "stdout",
     "output_type": "stream",
     "text": [
      "[1. 1. 1. ... 0. 0. 0.]\n"
     ]
    }
   ],
   "source": [
    "#Create matrix representation, X_matrix \n",
    "\n",
    "counts1 = 0 \n",
    "for statement in statements: \n",
    "    counts2 = 0\n",
    "    for word in vocab:\n",
    "        if word in statement:\n",
    "            count = statement.count(word)\n",
    "            matrix[counts1, counts2] = count\n",
    "        counts2 += 1 \n",
    "    counts1 += 1 \n",
    "\n",
    "print(matrix[0])"
   ]
  },
  {
   "cell_type": "code",
   "execution_count": 27,
   "metadata": {},
   "outputs": [
    {
     "name": "stdout",
     "output_type": "stream",
     "text": [
      "[0, 2, 3, 0, 2, 4, 1, 2, 2, 3]\n"
     ]
    }
   ],
   "source": [
    "#Create y vector\n",
    "labelsdic ={\"false\":0, \"barely-true\":1,\"half-true\":2,\"mostly-true\":3,\"true\":4, \"pants-fire\":5}\n",
    "\n",
    "size = len(statements)\n",
    "y_vector = [None] * size\n",
    "\n",
    "counter = 0\n",
    "for label in labels:\n",
    "    y_vector[counter] = labelsdic[label]\n",
    "    counter += 1 "
   ]
  },
  {
   "cell_type": "code",
   "execution_count": 30,
   "metadata": {},
   "outputs": [
    {
     "name": "stdout",
     "output_type": "stream",
     "text": [
      "[0 2 3 0 3 4 1]\n"
     ]
    }
   ],
   "source": [
    "lr = LogisticRegression(solver='lbfgs',multi_class='multinomial').fit(matrix, y_vector)\n",
    "yhat = lr.predict(matrix)\n",
    "print(yhat[:7])"
   ]
  },
  {
   "cell_type": "code",
   "execution_count": 32,
   "metadata": {},
   "outputs": [
    {
     "data": {
      "text/plain": [
       "0.8458984375"
      ]
     },
     "execution_count": 32,
     "metadata": {},
     "output_type": "execute_result"
    }
   ],
   "source": [
    "from sklearn.metrics import accuracy_score\n",
    "accuracy_score(y_vector, yhat)"
   ]
  }
 ],
 "metadata": {
  "kernelspec": {
   "display_name": "Python 3",
   "language": "python",
   "name": "python3"
  },
  "language_info": {
   "codemirror_mode": {
    "name": "ipython",
    "version": 3
   },
   "file_extension": ".py",
   "mimetype": "text/x-python",
   "name": "python",
   "nbconvert_exporter": "python",
   "pygments_lexer": "ipython3",
   "version": "3.6.4"
  }
 },
 "nbformat": 4,
 "nbformat_minor": 2
}
