{
 "cells": [
  {
   "cell_type": "markdown",
   "metadata": {},
   "source": [
    "# Sentiment Analysis \n",
    "### Lexicon based SA analysis\n",
    "I tried out some things, and in the end you will find the calculation of a sentiment score of a sentence. Did this using the sentiwordnet lexicon, but maybe other lexicons are nice to use too? The stuff here can easily be applied to our liar dataset. "
   ]
  },
  {
   "cell_type": "code",
   "execution_count": 5,
   "metadata": {
    "collapsed": true
   },
   "outputs": [],
   "source": [
    "import nltk\n",
    "from nltk.corpus import wordnet as wn\n",
    "from nltk.corpus import sentiwordnet as swn"
   ]
  },
  {
   "cell_type": "code",
   "execution_count": 6,
   "metadata": {},
   "outputs": [
    {
     "name": "stdout",
     "output_type": "stream",
     "text": [
      "[nltk_data] Downloading package sentiwordnet to\n",
      "[nltk_data]     /Users/joycedenhertog/nltk_data...\n",
      "[nltk_data]   Package sentiwordnet is already up-to-date!\n"
     ]
    },
    {
     "data": {
      "text/plain": [
       "True"
      ]
     },
     "execution_count": 6,
     "metadata": {},
     "output_type": "execute_result"
    }
   ],
   "source": [
    "# Download the sentiwordnet data (only needed once...)\n",
    "nltk.download('sentiwordnet')"
   ]
  },
  {
   "cell_type": "code",
   "execution_count": 7,
   "metadata": {},
   "outputs": [
    {
     "name": "stdout",
     "output_type": "stream",
     "text": [
      "[SentiSynset('decelerate.v.01'), SentiSynset('slow.v.02'), SentiSynset('slow.v.03'), SentiSynset('slow.a.01'), SentiSynset('slow.a.02'), SentiSynset('dense.s.04'), SentiSynset('slow.a.04'), SentiSynset('boring.s.01'), SentiSynset('dull.s.08'), SentiSynset('slowly.r.01'), SentiSynset('behind.r.03')]\n"
     ]
    }
   ],
   "source": [
    "print(list(swn.senti_synsets('slow')))"
   ]
  },
  {
   "cell_type": "code",
   "execution_count": 18,
   "metadata": {},
   "outputs": [
    {
     "name": "stdout",
     "output_type": "stream",
     "text": [
      "<breakdown.n.03: PosScore=0.0 NegScore=0.25>\n"
     ]
    }
   ],
   "source": [
    "breakdown = swn.senti_synset('breakdown.n.03')\n",
    "print(breakdown)"
   ]
  },
  {
   "cell_type": "code",
   "execution_count": 9,
   "metadata": {},
   "outputs": [
    {
     "data": {
      "text/plain": [
       "0.0"
      ]
     },
     "execution_count": 9,
     "metadata": {},
     "output_type": "execute_result"
    }
   ],
   "source": [
    "breakdown.pos_score()"
   ]
  },
  {
   "cell_type": "code",
   "execution_count": 42,
   "metadata": {},
   "outputs": [
    {
     "name": "stdout",
     "output_type": "stream",
     "text": [
      "<filter object at 0x1a164b0cc0>\n",
      "<dislocation.n.02: PosScore=0.0 NegScore=0.0>\n",
      "<breakdown.n.02: PosScore=0.125 NegScore=0.5>\n",
      "<breakdown.n.03: PosScore=0.0 NegScore=0.25>\n",
      "<breakdown.n.04: PosScore=0.0 NegScore=0.0>\n"
     ]
    }
   ],
   "source": [
    "print(swn.senti_synsets('breakdown'))\n",
    "for synset in swn.senti_synsets('breakdown'):\n",
    "    print(synset)"
   ]
  },
  {
   "cell_type": "code",
   "execution_count": 127,
   "metadata": {},
   "outputs": [],
   "source": [
    "def senti_score(word):\n",
    "    synsets =  swn.senti_synsets(word)\n",
    "    positive = 0\n",
    "    negative = 0\n",
    "    total_synsets = 0\n",
    "    \n",
    "    for synset in synsets:\n",
    "        positive = positive + synset.pos_score()\n",
    "        negative = negative + synset.neg_score()\n",
    "        total_synsets += 1 \n",
    "        \n",
    "    positive = positive / total_synsets\n",
    "    negative = negative / total_synsets\n",
    "    return (positive, negative)"
   ]
  },
  {
   "cell_type": "code",
   "execution_count": 128,
   "metadata": {},
   "outputs": [],
   "source": [
    "for s in swn.senti_synsets(\",\"):\n",
    "    print(s)"
   ]
  },
  {
   "cell_type": "code",
   "execution_count": 152,
   "metadata": {},
   "outputs": [
    {
     "data": {
      "text/plain": [
       "(0.0, 0.0)"
      ]
     },
     "execution_count": 152,
     "metadata": {},
     "output_type": "execute_result"
    }
   ],
   "source": [
    "senti_score('hello')"
   ]
  },
  {
   "cell_type": "code",
   "execution_count": 181,
   "metadata": {},
   "outputs": [],
   "source": [
    "sentence = [\"this\", \"is\", \"a\", \"sad\", \"sentence\", \"sad\", \"sad\"]"
   ]
  },
  {
   "cell_type": "code",
   "execution_count": 182,
   "metadata": {},
   "outputs": [],
   "source": [
    "def senti_score_sentence(sentence):\n",
    "    positive = 0\n",
    "    negative = 0\n",
    "    length = 0\n",
    "    \n",
    "    for word in sentence:\n",
    "        if not wn.synsets(word): # if it doesn't have synsets you can't calculate the sentiment score..\n",
    "            continue\n",
    "        positive = positive + senti_score(word)[0]\n",
    "        negative = negative + senti_score(word)[1]\n",
    "        length += 1\n",
    "    \n",
    "    positive = positive / length\n",
    "    negative = negative / length\n",
    "\n",
    "    return (positive, negative)"
   ]
  },
  {
   "cell_type": "code",
   "execution_count": 183,
   "metadata": {},
   "outputs": [
    {
     "data": {
      "text/plain": [
       "(0.028617216117216113, 0.34249084249084244)"
      ]
     },
     "execution_count": 183,
     "metadata": {},
     "output_type": "execute_result"
    }
   ],
   "source": [
    "senti_score_sentence(sentence)"
   ]
  }
 ],
 "metadata": {
  "kernelspec": {
   "display_name": "Python 3",
   "language": "python",
   "name": "python3"
  },
  "language_info": {
   "codemirror_mode": {
    "name": "ipython",
    "version": 3
   },
   "file_extension": ".py",
   "mimetype": "text/x-python",
   "name": "python",
   "nbconvert_exporter": "python",
   "pygments_lexer": "ipython3",
   "version": "3.6.3"
  }
 },
 "nbformat": 4,
 "nbformat_minor": 2
}
