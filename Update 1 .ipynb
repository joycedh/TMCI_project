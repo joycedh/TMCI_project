{
 "cells": [
  {
   "cell_type": "code",
   "execution_count": 79,
   "metadata": {},
   "outputs": [
    {
     "name": "stdout",
     "output_type": "stream",
     "text": [
      "Number of words in trainset: 184014\n",
      "Number of distinct words in trainset: 21650\n",
      "['Says', 'the', 'Annies', 'List', 'political', 'group', 'supports', 'third-trimester', 'abortions', 'on', 'demand.', 'When', 'did', 'the', 'decline', 'of', 'coal', 'start?', 'It', 'started', 'when', 'natural', 'gas', 'took', 'off']\n",
      "['Says', 'the', 'Annies', 'List', 'political', 'group', 'supports', 'third-trimester', 'abortions', 'on', 'demand.', 'When', 'did', 'decline', 'of', 'coal', 'start?', 'It', 'started', 'when', 'natural', 'gas', 'took', 'off', 'that']\n"
     ]
    }
   ],
   "source": [
    "#make a list of the vocabulary: all the distinct words occuring in the train set \n",
    "\n",
    "import csv\n",
    "\n",
    "allwords = []\n",
    "with open(\"train.tsv\", encoding=\"utf8\") as tsvfile:    #open training set\n",
    "    lines = csv.reader(tsvfile, delimiter=\"\\t\")        #convert file to lines\n",
    "    for line in lines:\n",
    "        statement = line[2]                                #get statement from each line \n",
    "        lostrings = statement.split(\" \")                   #convert string to list of strings\n",
    "        allwords.extend(lostrings)\n",
    "\n",
    "vocab = []                          #initialize a list for all the distint words in the trainset\n",
    "for word in allwords:\n",
    "    if word in vocab:               #do not add word if word is already in vocabulary \n",
    "        continue \n",
    "    else:\n",
    "        vocab.append(word)\n",
    "\n",
    "\n",
    "print(\"Number of words in trainset:\", len(allwords))\n",
    "print(\"Number of distinct words in trainset:\", len(vocab))\n",
    "print(allwords[:25])\n",
    "print(vocab[:25])"
   ]
  },
  {
   "cell_type": "code",
   "execution_count": 83,
   "metadata": {},
   "outputs": [
    {
     "name": "stdout",
     "output_type": "stream",
     "text": [
      "Number of statements: 10240\n",
      "First 3 statements: [['Says', 'the', 'Annies', 'List', 'political', 'group', 'supports', 'third-trimester', 'abortions', 'on', 'demand.'], ['When', 'did', 'the', 'decline', 'of', 'coal', 'start?', 'It', 'started', 'when', 'natural', 'gas', 'took', 'off', 'that', 'started', 'to', 'begin', 'in', '(President', 'George', 'W.)', 'Bushs', 'administration.'], ['Hillary', 'Clinton', 'agrees', 'with', 'John', 'McCain', '\"by', 'voting', 'to', 'give', 'George', 'Bush', 'the', 'benefit', 'of', 'the', 'doubt', 'on', 'Iran.\"']]\n"
     ]
    }
   ],
   "source": [
    "#make a list containing all the statements and count number of statements \n",
    "\n",
    "statements = []\n",
    "\n",
    "with open(\"train.tsv\", encoding=\"utf8\") as tsvfile:\n",
    "    tsvreader = csv.reader(tsvfile, delimiter=\"\\t\")\n",
    "    for line in tsvreader:\n",
    "        aline = line[2]\n",
    "        bline = aline.split(\" \")\n",
    "        statements.append(bline)\n",
    "\n",
    "\n",
    "countlines = len(statements)\n",
    "print(\"Number of statements:\", countlines)\n",
    "print(\"First 3 statements:\", statements[:3])"
   ]
  },
  {
   "cell_type": "code",
   "execution_count": 92,
   "metadata": {},
   "outputs": [
    {
     "name": "stdout",
     "output_type": "stream",
     "text": [
      "Number of statements: 10240\n",
      "First 3 statements: [['false', 'Says', 'the', 'Annies', 'List', 'political', 'group', 'supports', 'third-trimester', 'abortions', 'on', 'demand.'], ['half-true', 'When', 'did', 'the', 'decline', 'of', 'coal', 'start?', 'It', 'started', 'when', 'natural', 'gas', 'took', 'off', 'that', 'started', 'to', 'begin', 'in', '(President', 'George', 'W.)', 'Bushs', 'administration.'], ['mostly-true', 'Hillary', 'Clinton', 'agrees', 'with', 'John', 'McCain', '\"by', 'voting', 'to', 'give', 'George', 'Bush', 'the', 'benefit', 'of', 'the', 'doubt', 'on', 'Iran.\"']]\n"
     ]
    }
   ],
   "source": [
    "#this list is similar to the previous list but it contains the label (true/false) at beginning of eacht statement \n",
    "statements = []\n",
    "\n",
    "with open(\"train.tsv\", encoding=\"utf8\") as tsvfile:\n",
    "    tsvreader = csv.reader(tsvfile, delimiter=\"\\t\")\n",
    "    for line in tsvreader:\n",
    "        aline = line[2]\n",
    "        label = line[1]\n",
    "        bline = aline.split(\" \")\n",
    "        bline.insert(0, label)\n",
    "        statements.append(bline)\n",
    "\n",
    "\n",
    "countlines = len(statements)\n",
    "print(\"Number of statements:\", countlines)\n",
    "print(\"First 3 statements:\", statements[:3])"
   ]
  },
  {
   "cell_type": "code",
   "execution_count": 76,
   "metadata": {},
   "outputs": [
    {
     "name": "stdout",
     "output_type": "stream",
     "text": [
      "[1. 1. 1. ... 0. 0. 0.]\n"
     ]
    }
   ],
   "source": [
    "import numpy as np\n",
    "\n",
    "labels ={\"false\":0, \"barely-true\":1,\"half-true\":2,\"mostly-true\":3,\"true\":4}\n",
    "\n",
    "rows = countlines\n",
    "columns = len(vocab) + 1 #add one for the statement \n",
    "matrix = np.zeros((rows, columns))\n",
    "\n",
    "lst = blist\n",
    "\n",
    "counts1 = 0\n",
    "for statement in statements:\n",
    "    counts2 = 0\n",
    "    for word in lst:\n",
    "        if word in statement:\n",
    "            matrix[counts1, counts2] = 1\n",
    "        counts2 += 1 \n",
    "    counts1 += 1 \n",
    "\n",
    "print(matrix[0])"
   ]
  },
  {
   "cell_type": "code",
   "execution_count": 85,
   "metadata": {},
   "outputs": [
    {
     "name": "stdout",
     "output_type": "stream",
     "text": [
      "[[1. 0. 0. 0. 0. 1. 1.]\n",
      " [0. 0. 0. 0. 0. 0. 1.]\n",
      " [0. 1. 0. 0. 0. 0. 0.]]\n"
     ]
    },
    {
     "data": {
      "text/plain": [
       "['that', 'can']"
      ]
     },
     "execution_count": 85,
     "metadata": {},
     "output_type": "execute_result"
    }
   ],
   "source": [
    "#An example for a smaller matrix\n",
    "\n",
    "lst = [\"words\", \"that\", \"can\", \"occur\", \"in\", \"a\",\"statement\"]\n",
    "example_statements =[[\"a\", \"statement\", \"with\", \"words\"], [\"this\", \"is\", \"another\", \"example\", \"statement\"], \n",
    "                     [\"and\",\"that\", \"was\", \"the\", \"last\", \"one\"]]\n",
    "\n",
    "example_matrix = np.zeros((len(example_statements), len(lst)))\n",
    "\n",
    "ex_counts1 = 0\n",
    "for statement in example_statements:\n",
    "    ex_counts2 = 0\n",
    "    for word in lst:\n",
    "        if word in statement:\n",
    "            example_matrix[ex_counts1, ex_counts2] = 1\n",
    "        ex_counts2 += 1 \n",
    "    ex_counts1 += 1 \n",
    "    \n",
    "\n",
    "print(example_matrix)"
   ]
  },
  {
   "cell_type": "code",
   "execution_count": null,
   "metadata": {},
   "outputs": [],
   "source": []
  }
 ],
 "metadata": {
  "kernelspec": {
   "display_name": "Python 3",
   "language": "python",
   "name": "python3"
  },
  "language_info": {
   "codemirror_mode": {
    "name": "ipython",
    "version": 3
   },
   "file_extension": ".py",
   "mimetype": "text/x-python",
   "name": "python",
   "nbconvert_exporter": "python",
   "pygments_lexer": "ipython3",
   "version": "3.6.4"
  }
 },
 "nbformat": 4,
 "nbformat_minor": 2
}
