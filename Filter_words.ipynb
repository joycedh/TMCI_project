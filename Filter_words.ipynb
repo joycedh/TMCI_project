{
 "cells": [
  {
   "cell_type": "code",
   "execution_count": 76,
   "metadata": {
    "scrolled": true
   },
   "outputs": [
    {
     "name": "stdout",
     "output_type": "stream",
     "text": [
      "Number of words in trainset: 110580\n",
      "Number of distinct words in trainset: 11057\n",
      "['say', 'annies', 'list', 'political', 'group', 'support', 'thirdtrimester', 'abortion', 'demand', 'decline', 'coal', 'start', 'started', 'natural', 'gas', 'took', 'started', 'begin', 'president', 'george', 'w', 'bush', 'administration', 'hillary', 'clinton']\n",
      "['say', 'annies', 'list', 'political', 'group', 'support', 'thirdtrimester', 'abortion', 'demand', 'decline', 'coal', 'start', 'started', 'natural', 'gas', 'took', 'begin', 'president', 'george', 'w', 'bush', 'administration', 'hillary', 'clinton', 'agrees']\n",
      "<class 'list'>\n",
      "10240\n",
      "110580\n"
     ]
    }
   ],
   "source": [
    "import nltk\n",
    "from nltk.corpus import wordnet as wn\n",
    "import csv\n",
    "import string\n",
    "\n",
    "import nltk\n",
    "from nltk.corpus import stopwords\n",
    "\n",
    "countlines = 0 \n",
    "\n",
    "allwords = []\n",
    "with open(\"train.tsv\", encoding=\"utf8\") as tsvfile:    #open training set\n",
    "    lines = csv.reader(tsvfile, delimiter=\"\\t\")        #convert file to lines\n",
    "    for line in lines:\n",
    "        statement = line[2]                                #get statement from each line \n",
    "        lostrings = statement.split(\" \")                   #convert string to list of strings\n",
    "        new_lostrings = []\n",
    "        countlines += 1 \n",
    "        for word in lostrings:\n",
    "            word = nltk.WordNetLemmatizer().lemmatize(\n",
    "                word.translate(str.maketrans('', '', string.punctuation)).lower()) # remove punctuation & lemmatize\n",
    "            if word not in stopwords.words('english') and not word.isdigit():\n",
    "                new_lostrings.append(word)\n",
    "        allwords.extend(new_lostrings)\n",
    "\n",
    "vocab = []                          #initialize a list for all the distint words in the trainset\n",
    "for word in allwords:\n",
    "    if word in vocab:               #do not add word if word is already in vocabulary \n",
    "        continue \n",
    "    else:\n",
    "        vocab.append(word)\n",
    "\n",
    "\n",
    "print(\"Number of words in trainset:\", len(allwords))\n",
    "print(\"Number of distinct words in trainset:\", len(vocab))\n",
    "print(allwords[:25])\n",
    "print(vocab[:25])\n",
    "print(type(vocab))\n",
    "print(countlines)\n",
    "print(len(allwords))"
   ]
  },
  {
   "cell_type": "code",
   "execution_count": 78,
   "metadata": {},
   "outputs": [
    {
     "name": "stdout",
     "output_type": "stream",
     "text": [
      "6515\n"
     ]
    }
   ],
   "source": [
    "from collections import Counter\n",
    "list1 = allwords\n",
    "counts = Counter(list1)\n",
    "\n",
    "for word in vocab: \n",
    "    if counts[word] == 1:\n",
    "        vocab.remove(word)\n",
    "\n",
    "print(len(vocab))"
   ]
  },
  {
   "cell_type": "code",
   "execution_count": 79,
   "metadata": {},
   "outputs": [
    {
     "name": "stdout",
     "output_type": "stream",
     "text": [
      "First 3 statements: [['list', 'political', 'group', 'thirdtrimester'], ['decline', 'coal', 'started', 'natural', 'gas', 'took', 'started', 'begin', 'president', 'w', 'administration'], ['clinton', 'agrees', 'john', 'voting', 'give', 'bush', 'benefit', 'doubt', 'iran']]\n",
      "First 3 labels: ['false', 'half-true', 'mostly-true']\n"
     ]
    }
   ],
   "source": [
    "#make a list containing all the statements for the train data \n",
    "\n",
    "statements = []\n",
    "labels = []\n",
    "\n",
    "with open(\"train.tsv\", encoding=\"utf8\") as tsvfile:\n",
    "    tsvreader = csv.reader(tsvfile, delimiter=\"\\t\")\n",
    "    for line in tsvreader:\n",
    "        label = line[1]\n",
    "        aline = line[2]\n",
    "        bline = aline.split(\" \")\n",
    "        for word in bline:\n",
    "            if word not in vocab:\n",
    "                bline.remove(word)\n",
    "        cline = []\n",
    "        for word in bline:\n",
    "            word = nltk.WordNetLemmatizer().lemmatize(\n",
    "                word.translate(str.maketrans('', '', string.punctuation)).lower()) # remove punctuation & lemmatize\n",
    "            if word not in stopwords.words('english') and not word.isdigit():\n",
    "                cline.append(word)\n",
    "        labels.append(label)\n",
    "        statements.append(cline)\n",
    "\n",
    "print(\"First 3 statements:\", statements[:3])\n",
    "print(\"First 3 labels:\", labels[:3])"
   ]
  },
  {
   "cell_type": "code",
   "execution_count": 80,
   "metadata": {},
   "outputs": [],
   "source": [
    "import numpy as np \n",
    "rows = countlines\n",
    "columns = len(vocab) \n",
    "matrix = np.zeros((rows, columns))"
   ]
  },
  {
   "cell_type": "code",
   "execution_count": 95,
   "metadata": {},
   "outputs": [
    {
     "name": "stdout",
     "output_type": "stream",
     "text": [
      "[0. 1. 1. ... 0. 0. 0.]\n",
      "6515\n"
     ]
    }
   ],
   "source": [
    "#Create matrix representation, X_matrix \n",
    "\n",
    "counts1 = 0 \n",
    "for statement in statements: \n",
    "    counts2 = 0\n",
    "    for word in vocab:\n",
    "        if word in statement:\n",
    "            count = statement.count(word)\n",
    "            matrix[counts1, counts2] = count\n",
    "        counts2 += 1 \n",
    "    counts1 += 1 \n",
    "\n",
    "print(matrix[0])\n",
    "print(len(matrix[0]))"
   ]
  },
  {
   "cell_type": "code",
   "execution_count": 81,
   "metadata": {},
   "outputs": [],
   "source": [
    "#Create y vector\n",
    "labelsdic ={\"false\":0, \"barely-true\":1,\"half-true\":2,\"mostly-true\":3,\"true\":4, \"pants-fire\":5}\n",
    "\n",
    "size = len(statements)\n",
    "y_vector = [None] * size\n",
    "\n",
    "counter = 0\n",
    "for label in labels:\n",
    "    y_vector[counter] = labelsdic[label]\n",
    "    counter += 1"
   ]
  },
  {
   "cell_type": "code",
   "execution_count": 82,
   "metadata": {},
   "outputs": [],
   "source": [
    "from sklearn.linear_model import LogisticRegression"
   ]
  },
  {
   "cell_type": "code",
   "execution_count": 96,
   "metadata": {},
   "outputs": [
    {
     "data": {
      "text/plain": [
       "LogisticRegression(C=1.0, class_weight=None, dual=False, fit_intercept=True,\n",
       "          intercept_scaling=1, max_iter=100, multi_class='multinomial',\n",
       "          n_jobs=1, penalty='l2', random_state=None, solver='lbfgs',\n",
       "          tol=0.0001, verbose=0, warm_start=False)"
      ]
     },
     "execution_count": 96,
     "metadata": {},
     "output_type": "execute_result"
    }
   ],
   "source": [
    "lr = LogisticRegression(solver='lbfgs',multi_class='multinomial')\n",
    "lr.fit(matrix, y_vector)"
   ]
  },
  {
   "cell_type": "code",
   "execution_count": 97,
   "metadata": {},
   "outputs": [
    {
     "name": "stdout",
     "output_type": "stream",
     "text": [
      "First 3 statements: [['wall', 'border', 'take', 'literally'], ['pace', 'double', 'number', 'layoff', 'year'], ['john', 'ha', 'done', 'nothing', 'help', 'vet']]\n",
      "First 3 labels: ['true', 'false', 'false']\n",
      "1267\n"
     ]
    }
   ],
   "source": [
    "#make list of statements for test data set \n",
    "import string \n",
    "import nltk\n",
    "from nltk.corpus import wordnet as wn\n",
    "import csv\n",
    "\n",
    "teststatements = []\n",
    "testlabels = []\n",
    "test_countlines = 0\n",
    "\n",
    "with open(\"test.tsv\", encoding=\"utf8\") as tsvfile:\n",
    "    tsvreader = csv.reader(tsvfile, delimiter=\"\\t\")\n",
    "    for line in tsvreader:\n",
    "        label = line[1]\n",
    "        aline = line[2]\n",
    "        bline = aline.split(\" \")\n",
    "        for word in bline:\n",
    "            if word not in vocab:\n",
    "                bline.remove(word)\n",
    "        cline = []\n",
    "        test_countlines += 1 \n",
    "        for word in bline:\n",
    "            word = nltk.WordNetLemmatizer().lemmatize(\n",
    "                word.translate(str.maketrans('', '', string.punctuation)).lower()) # remove punctuation & lemmatize\n",
    "            if word not in stopwords.words('english') and not word.isdigit():\n",
    "                cline.append(word)\n",
    "        testlabels.append(label)\n",
    "        teststatements.append(cline)\n",
    "\n",
    "print(\"First 3 statements:\", teststatements[:3])\n",
    "print(\"First 3 labels:\", testlabels[:3])\n",
    "print(test_countlines)"
   ]
  },
  {
   "cell_type": "code",
   "execution_count": 93,
   "metadata": {},
   "outputs": [
    {
     "name": "stdout",
     "output_type": "stream",
     "text": [
      "6515\n"
     ]
    }
   ],
   "source": [
    "import numpy as np \n",
    "rows = test_countlines\n",
    "columns = len(vocab)\n",
    "print(len(vocab))\n",
    "testmatrix = np.zeros((rows, columns))"
   ]
  },
  {
   "cell_type": "code",
   "execution_count": 94,
   "metadata": {},
   "outputs": [
    {
     "name": "stdout",
     "output_type": "stream",
     "text": [
      "[0. 0. 0. ... 0. 0. 0.]\n",
      "6515\n"
     ]
    }
   ],
   "source": [
    "#Create matrix representation for test dataset, X_matrix_test \n",
    "\n",
    "counts1 = 0 \n",
    "for statement in teststatements: \n",
    "    counts2 = 0\n",
    "    for word in vocab:\n",
    "        if word in statement:\n",
    "            count = statement.count(word)\n",
    "            testmatrix[counts1, counts2] = count\n",
    "        counts2 += 1 \n",
    "    counts1 += 1 \n",
    "\n",
    "print(testmatrix[0])\n",
    "print(len(testmatrix[0]))"
   ]
  },
  {
   "cell_type": "code",
   "execution_count": 88,
   "metadata": {},
   "outputs": [],
   "source": [
    "#Create test y vector\n",
    "labelsdic ={\"false\":0, \"barely-true\":1,\"half-true\":2,\"mostly-true\":3,\"true\":4, \"pants-fire\":5}\n",
    "\n",
    "size = len(teststatements)\n",
    "test_y_vector = [None] * size\n",
    "\n",
    "counter = 0\n",
    "for label in testlabels:\n",
    "    test_y_vector[counter] = labelsdic[label]\n",
    "    counter += 1"
   ]
  },
  {
   "cell_type": "code",
   "execution_count": 98,
   "metadata": {},
   "outputs": [],
   "source": [
    "test_x = testmatrix \n",
    "test_y = test_y_vector"
   ]
  },
  {
   "cell_type": "code",
   "execution_count": 99,
   "metadata": {},
   "outputs": [
    {
     "data": {
      "text/plain": [
       "0.2296764009471192"
      ]
     },
     "execution_count": 99,
     "metadata": {},
     "output_type": "execute_result"
    }
   ],
   "source": [
    "lr.score(test_x, test_y)"
   ]
  },
  {
   "cell_type": "code",
   "execution_count": null,
   "metadata": {},
   "outputs": [],
   "source": []
  }
 ],
 "metadata": {
  "kernelspec": {
   "display_name": "Python 3",
   "language": "python",
   "name": "python3"
  },
  "language_info": {
   "codemirror_mode": {
    "name": "ipython",
    "version": 3
   },
   "file_extension": ".py",
   "mimetype": "text/x-python",
   "name": "python",
   "nbconvert_exporter": "python",
   "pygments_lexer": "ipython3",
   "version": "3.6.4"
  }
 },
 "nbformat": 4,
 "nbformat_minor": 2
}
